{
 "cells": [
  {
   "cell_type": "code",
   "execution_count": 1,
   "id": "197b4df8-52a5-4737-9107-bd75860dc2f0",
   "metadata": {},
   "outputs": [
    {
     "name": "stdout",
     "output_type": "stream",
     "text": [
      "Populating the interactive namespace from numpy and matplotlib\n"
     ]
    },
    {
     "name": "stderr",
     "output_type": "stream",
     "text": [
      "/global/common/software/desi/cori/desiconda/20200801-1.4.0-spec/conda/lib/python3.8/site-packages/IPython/core/magics/pylab.py:159: UserWarning: pylab import has clobbered these variables: ['vstack']\n",
      "`%matplotlib` prevents importing * from pylab and numpy\n",
      "  warn(\"pylab import has clobbered these variables: %s\"  % clobbered +\n"
     ]
    }
   ],
   "source": [
    "import os\n",
    "import sys\n",
    "import psycopg2\n",
    "import numpy as np\n",
    "from astropy.table import Table, vstack, Column\n",
    "import astropy.io.ascii\n",
    "import re\n",
    "from glob import glob\n",
    "from datetime import date, timedelta\n",
    "from scipy import optimize\n",
    "from scipy.optimize import minimize\n",
    "import contextlib\n",
    "\n",
    "# insert at 1, 0 is the script path (or '' in REPL)\n",
    "sys.path.insert(1, '/global/u1/e/eisenste/python/desimeter/py')\n",
    "# So software in here will override the loaded kernel\n",
    "\n",
    "from desimeter.util import parse_fibers\n",
    "from desimeter.dbutil import dbquery,get_petal_ids,get_pos_ids,get_petal_loc\n",
    "\n",
    "from desimeter.transform.pos2ptl import int2ptl, ptl2flat\n",
    "from desimeter.posparams.posmoveselection import posmove_selection\n",
    "from desimeter.circles import fit_circle, _fast_fit_circle\n",
    "from desimeter.transform.ptl2fp import fp2ptl\n",
    "\n",
    "\n",
    "import matplotlib.pyplot as plt\n",
    "%pylab inline\n",
    "\n",
    "# The petal DB tables are by index number, but we refer to fibers by location\n",
    "petal_id2loc = {4:0, 5:1, 6:2, 3:3, 8:4, 10:5, 11:6, 2:7, 7:8, 9:9}"
   ]
  },
  {
   "cell_type": "code",
   "execution_count": 2,
   "id": "48bc2edc-5889-42ff-85c8-6d23bc103bb6",
   "metadata": {},
   "outputs": [
    {
     "data": {
      "text/plain": [
       "['/global/project/projectdirs/desi/users/eisenste',\n",
       " '/global/u1/e/eisenste/python/desimeter/py',\n",
       " '',\n",
       " '/global/common/software/desi/cori/desiconda/20200801-1.4.0-spec/code/QuasarNP/0.1.2/lib/python3.8/site-packages',\n",
       " '/global/common/software/desi/cori/desiconda/20200801-1.4.0-spec/code/speclite/0.13',\n",
       " '/global/common/software/desi/cori/desiconda/20200801-1.4.0-spec/code/simqso/master',\n",
       " '/global/common/software/desi/cori/desiconda/20200801-1.4.0-spec/code/desimeter/master/py',\n",
       " '/global/common/software/desi/cori/desiconda/20200801-1.4.0-spec/code/prospect/master/py',\n",
       " '/global/common/software/desi/cori/desiconda/20200801-1.4.0-spec/code/redrock/master/py',\n",
       " '/global/common/software/desi/cori/desiconda/20200801-1.4.0-spec/code/surveysim/master/py',\n",
       " '/global/common/software/desi/cori/desiconda/20200801-1.4.0-spec/code/desisurvey/master/py',\n",
       " '/global/common/software/desi/cori/desiconda/20200801-1.4.0-spec/code/fiberassign/master/py',\n",
       " '/global/common/software/desi/cori/desiconda/20200801-1.4.0-spec/code/desisim/master/py',\n",
       " '/global/common/software/desi/cori/desiconda/20200801-1.4.0-spec/code/desispec/master/py',\n",
       " '/global/common/software/desi/cori/desiconda/20200801-1.4.0-spec/code/specsim/master',\n",
       " '/global/common/software/desi/cori/desiconda/20200801-1.4.0-spec/code/desitarget/master/py',\n",
       " '/global/common/software/desi/cori/desiconda/20200801-1.4.0-spec/code/specex/0.7.0/lib/python3.8/site-packages',\n",
       " '/global/common/software/desi/cori/desiconda/20200801-1.4.0-spec/code/desimodel/master/py',\n",
       " '/global/common/software/desi/cori/desiconda/20200801-1.4.0-spec/code/specter/master/py',\n",
       " '/global/common/software/desi/cori/desiconda/20200801-1.4.0-spec/code/desiutil/master/py',\n",
       " '/global/common/software/desi/cori/desiconda/20200801-1.4.0-spec/aux/lib/python3.8/site-packages',\n",
       " '/global/common/software/desi/cori/desiconda/20200801-1.4.0-spec/conda/lib/python3.8/site-packages',\n",
       " '/global/common/software/desi/cori/desiconda/20200801-1.4.0-spec/code/specex/0.7.0/lib/python3.8/site-packages/specex-0.7.0-py3.8-linux-x86_64.egg',\n",
       " '/global/common/software/desi/cori/desiconda/20200801-1.4.0-spec/conda/lib/python38.zip',\n",
       " '/global/common/software/desi/cori/desiconda/20200801-1.4.0-spec/conda/lib/python3.8',\n",
       " '/global/common/software/desi/cori/desiconda/20200801-1.4.0-spec/conda/lib/python3.8/lib-dynload',\n",
       " '/global/homes/e/eisenste/.local/lib/python3.8/site-packages',\n",
       " '/global/u1/e/eisenste/abacusutils',\n",
       " '/global/common/software/desi/cori/desiconda/20200801-1.4.0-spec/conda/lib/python3.8/site-packages/IPython/extensions',\n",
       " '/global/u1/e/eisenste/.ipython']"
      ]
     },
     "execution_count": 2,
     "metadata": {},
     "output_type": "execute_result"
    }
   ],
   "source": [
    "sys.path"
   ]
  },
  {
   "cell_type": "code",
   "execution_count": 3,
   "id": "5c40a8cd-db25-4c0e-a844-118a74325a70",
   "metadata": {
    "tags": []
   },
   "outputs": [],
   "source": [
    "# Helper functions for parsing the tables\n",
    "re_phi_arc = re.compile('phi arc')\n",
    "re_theta_arc = re.compile('theta arc')\n",
    "\n",
    "def parse_int(string):\n",
    "    if string == None: return 0\n",
    "    else: return int(string)\n",
    "def parse_float(string):\n",
    "    if string == None: return 0\n",
    "    else: return float(string)"
   ]
  },
  {
   "cell_type": "code",
   "execution_count": 4,
   "id": "db5cc96e-dd6f-431b-ab19-7928f4b246ef",
   "metadata": {},
   "outputs": [
    {
     "name": "stdout",
     "output_type": "stream",
     "text": [
      "{'host': 'db.replicator.dev-cattle.stable.spin.nersc.org', 'port': 60042, 'password': None}\n"
     ]
    }
   ],
   "source": [
    "# Connect to the database\n",
    "args = {'host': 'db.replicator.dev-cattle.stable.spin.nersc.org', 'port': 60042, 'password': None}\n",
    "print(args)\n",
    "\n",
    "comm = psycopg2.connect(host=args['host'],port=args['port'], database='desi_dev', user='desi_reader',password=args['password'])"
   ]
  },
  {
   "cell_type": "code",
   "execution_count": 5,
   "id": "d0430875-1e5e-43e6-8377-22b2e76d43ee",
   "metadata": {},
   "outputs": [
    {
     "name": "stdout",
     "output_type": "stream",
     "text": [
      "Searching DB from 2021-09-19 to 2021-09-20\n",
      "Fetching all petals\n",
      "Unmeasured moves filtered out 8044\n",
      "160654 moves retrieved.  Processing....\n",
      "Converting to petal coordinates\n",
      "Retrieving calibrations from epoch:  2021-09-19T11:57:51.185548+00:00\n",
      "5038 cals retrieved\n",
      "5038 present cals retrieved\n",
      "Order of cals and present_cals confirmed to match.\n"
     ]
    }
   ],
   "source": [
    "# Fetch a petal of data for the given exposure\n",
    "def fetchDB(night, expos, lastexpos=-1, petal=-1):\n",
    "    if lastexpos<0: lastexpos = expos\n",
    "    _night = f'{night:08d}'\n",
    "    _night = date(int(_night[0:4]),int(_night[4:6]),int(_night[6:8]))\n",
    "    today = _night+timedelta(days=1)\n",
    "    tomorrow = _night+timedelta(days=2)\n",
    "    print(\"Searching DB from\", today.isoformat(), 'to', tomorrow.isoformat())\n",
    "    if petal>=0: \n",
    "        print(\"Fetching petal_id\", petal)\n",
    "        petal_id = f'_p{petal:d}'\n",
    "    else: \n",
    "        print(\"Fetching all petals\")\n",
    "        petal_id = ''\n",
    "\n",
    "    # obs_x,y, petal_id, pos_id, log_note\n",
    "    cmd = f\"select time_recorded, pos_id, petal_id, obs_x, obs_y, log_note \\\n",
    "    from posmovedb.positioner_moves{petal_id:s} \\\n",
    "    where (time_recorded>'{today.isoformat():s}') \\\n",
    "    and (time_recorded<'{tomorrow.isoformat():s}') \\\n",
    "    and (exposure_id >= {expos:5d}) \\\n",
    "    and (exposure_id <= {lastexpos:5d}) \\\n",
    "    and (ctrl_enabled = True) \\\n",
    "    order by pos_id,time_recorded desc\"\n",
    "    #print(cmd)\n",
    "    moves=dbquery(comm,cmd)\n",
    "    moves = Table(moves)\n",
    "    bad = (moves['obs_x']==None)&(moves['obs_y']==None)  # Unmeasured moves\n",
    "    print(\"Unmeasured moves filtered out\", np.sum(bad))\n",
    "    moves = moves[~bad]\n",
    "    print(len(moves), \"moves retrieved.  Processing....\")\n",
    "    obs_x = np.array(list(map(parse_float,moves['obs_x'])))\n",
    "    obs_y = np.array(list(map(parse_float,moves['obs_y'])))\n",
    "    moves.remove_column('obs_x')\n",
    "    moves.remove_column('obs_y')\n",
    "    #moves.rename_column('obs_x', 'obs_x_orig')\n",
    "    #moves.rename_column('obs_y', 'obs_y_orig')\n",
    "    moves.add_column(obs_x, name='obs_x')\n",
    "    moves.add_column(obs_y, name='obs_y')\n",
    "    \n",
    "    # TODO: This needs to be adjusted if we want to handle the full DB\n",
    "    print(f\"Converting to petal coordinates\")\n",
    "    z_fp = None\n",
    "    petal_loc = [petal_id2loc[x] for x in moves['petal_id']]\n",
    "\n",
    "    x_ptl_meas = np.zeros(len(moves))\n",
    "    y_ptl_meas = np.zeros(len(moves))\n",
    "    for n in range(len(moves)):\n",
    "        x_ptl_meas[n],y_ptl_meas[n],_ = fp2ptl(petal_loc[n],obs_x[n],obs_y[n],z_fp)\n",
    "    x_flat, y_flat = ptl2flat(x_ptl_meas, y_ptl_meas)\n",
    "        \n",
    "    #moves.add_column(x_ptl_meas, index=8, name='x_ptl_meas')\n",
    "    #moves.add_column(y_ptl_meas, index=9, name='y_ptl_meas')\n",
    "    moves.add_column(x_flat, name='x_flat')\n",
    "    moves.add_column(y_flat, name='y_flat')\n",
    "    \n",
    "    epoch = moves[\"time_recorded\"][0].isoformat()\n",
    "    print(\"Retrieving calibrations from epoch: \",epoch)\n",
    "    \n",
    "    cmd = f\"select t.* from posmovedb.positioner_calibration{petal_id:s} t \\\n",
    "    inner join ( \\\n",
    "        select pos_id, max(time_recorded) as MaxDate \\\n",
    "        from posmovedb.positioner_calibration{petal_id:s} \\\n",
    "        where (time_recorded < '{epoch:s}') \\\n",
    "        group by pos_id \\\n",
    "    ) tm on t.pos_id = tm.pos_id and t.time_recorded = tm.MaxDate \\\n",
    "    order by t.pos_id\" \n",
    "    #print(cmd)\n",
    "    cals = dbquery(comm,cmd)\n",
    "    cals = Table(cals)\n",
    "    print(len(cals), \"cals retrieved\")\n",
    "\n",
    "    cmd = f\"select t.* from posmovedb.positioner_calibration{petal_id:s} t \\\n",
    "    inner join ( \\\n",
    "        select pos_id, max(time_recorded) as MaxDate \\\n",
    "        from posmovedb.positioner_calibration{petal_id:s} \\\n",
    "        group by pos_id \\\n",
    "    ) tm on t.pos_id = tm.pos_id and t.time_recorded = tm.MaxDate \\\n",
    "    order by t.pos_id\" \n",
    "    #print(cmd)\n",
    "    present_cals = dbquery(comm,cmd)\n",
    "    present_cals = Table(present_cals)  \n",
    "    print(len(present_cals), \"present cals retrieved\")\n",
    "    \n",
    "    if np.sum(np.where(cals['pos_id']==present_cals['pos_id'],0,1))>0:\n",
    "        print(\"Critical error: cals and present_cals order doesn't match\")\n",
    "    else: \n",
    "        print(\"Order of cals and present_cals confirmed to match.\")\n",
    "    \n",
    "    for n in ['offset_x', 'offset_y', 'length_r1', 'length_r2']:\n",
    "        cals[n].info.format = '6.4f'\n",
    "        present_cals[n].info.format = '6.4f'\n",
    "    for n in ['offset_t', 'offset_p', 'physical_range_t', 'physical_range_p']:\n",
    "        cals[n].info.format = '6.4f'\n",
    "        present_cals[n].info.format = '6.4f'\n",
    "    \n",
    "    moves.remove_column('petal_id')\n",
    "    moves.remove_column('time_recorded')\n",
    "    return moves, cals, present_cals\n",
    "\n",
    "# night, firstexpos, lastexpos = 20210622,  95546, -1\n",
    "# night, firstexpos, lastexpos = 20210915, 100360, -1\n",
    "night, firstexpos, lastexpos = 20210918, 100841, 100846\n",
    "#night, firstexpos, lastexpos = 20210919, 100924, 100933\n",
    "\n",
    "moves, cals, present_cals = fetchDB(night,firstexpos, lastexpos=lastexpos) #,petal=2)"
   ]
  },
  {
   "cell_type": "code",
   "execution_count": 6,
   "id": "7acc1beb-b86c-4418-98e4-d4a4898cc3ea",
   "metadata": {},
   "outputs": [
    {
     "name": "stdout",
     "output_type": "stream",
     "text": [
      "5020\n"
     ]
    }
   ],
   "source": [
    "removed_posid = ['M01722', 'M02725', 'M03236', 'M03556', 'M03567', 'M03648',\n",
    "'M03709', 'M03824', 'M03912', 'M03918', 'M03996', 'M04024',\n",
    "'M04182', 'M05743', 'M06848', 'M06891', 'M06931', 'M07550']\n",
    "\n",
    "keep_posid = ~np.isin(cals['pos_id'], removed_posid)\n",
    "print(np.sum(keep_posid))\n",
    "\n",
    "cals = cals[keep_posid]\n",
    "present_cals = present_cals[keep_posid]"
   ]
  },
  {
   "cell_type": "code",
   "execution_count": 7,
   "id": "d6a48901-381c-41dd-9b6e-010001d6d62a",
   "metadata": {},
   "outputs": [],
   "source": [
    "pos2idx = {pos_id:idx for idx,pos_id in enumerate(cals[\"pos_id\"])}"
   ]
  },
  {
   "cell_type": "code",
   "execution_count": 8,
   "id": "e18a3d97-fb07-4d55-a37d-43e1d4d556cb",
   "metadata": {},
   "outputs": [],
   "source": [
    "new_cals = Table()\n",
    "new_cals.add_column(present_cals['pos_id'], name='pos_id')\n",
    "new_cals.add_column(np.zeros(len(new_cals),dtype=np.float32), name='length_r1')\n",
    "new_cals.add_column(np.zeros(len(new_cals),dtype=np.float32), name='length_r2')\n",
    "new_cals.add_column(np.zeros(len(new_cals),dtype=np.float32), name='offset_x')\n",
    "new_cals.add_column(np.zeros(len(new_cals),dtype=np.float32), name='offset_y')\n",
    "new_cals.add_column(np.zeros(len(new_cals),dtype=np.float32), name='arc_t')\n",
    "new_cals.add_column(np.zeros(len(new_cals),dtype=np.float32), name='arc_p')\n",
    "new_cals.add_column(np.zeros(len(new_cals),dtype=np.float32), name='rms_t')\n",
    "new_cals.add_column(np.zeros(len(new_cals),dtype=np.float32), name='rms_p')\n",
    "new_cals.add_column(np.zeros(len(new_cals),dtype=np.float32), name='err.length_r2')\n",
    "new_cals.add_column(np.zeros(len(new_cals),dtype=np.float32), name='err.offset_xy')\n",
    "new_cals.add_column(np.zeros(len(new_cals),dtype=np.float32), name='nfit_t')\n",
    "new_cals.add_column(np.zeros(len(new_cals),dtype=np.float32), name='nfit_p')\n",
    "new_cals.add_column(np.zeros(len(new_cals),dtype=np.float32), name='nprune_t')\n",
    "new_cals.add_column(np.zeros(len(new_cals),dtype=np.float32), name='nprune_p')\n",
    "new_cals.add_column(np.zeros(len(new_cals),dtype=np.float32), name='theta_arc_radius')\n",
    "new_cals.add_column(np.zeros(len(new_cals),dtype=np.float32), name='theta_arc_phi')\n",
    "new_cals.add_column(np.zeros(len(new_cals),dtype=np.float32), name='median_angstep_t')\n",
    "new_cals.add_column(np.zeros(len(new_cals),dtype=np.float32), name='median_angstep_p')\n",
    "new_cals.add_column(np.zeros(len(new_cals),dtype=np.float32), name='rms_angstep_t')\n",
    "new_cals.add_column(np.zeros(len(new_cals),dtype=np.float32), name='rms_angstep_p')\n",
    "new_cals.add_column(np.zeros(len(new_cals),dtype=np.float32), name='max_p')\n",
    "\n",
    "for n in list(new_cals.keys())[1:]:\n",
    "    new_cals[n].info.format = '6.4f'\n",
    "\n",
    "new_cals['nfit_t'].info.format = '2.0f'\n",
    "new_cals['nfit_p'].info.format = '2.0f'\n",
    "new_cals['nprune_t'].info.format = '2.0f'\n",
    "new_cals['nprune_p'].info.format = '2.0f'"
   ]
  },
  {
   "cell_type": "code",
   "execution_count": 9,
   "id": "e5fe5c62-227d-48ce-852f-42339413124f",
   "metadata": {},
   "outputs": [
    {
     "data": {
      "text/plain": [
       "dtype([('pos_id', '<U6'), ('log_note', '<U266'), ('obs_x', '<f8'), ('obs_y', '<f8'), ('x_flat', '<f8'), ('y_flat', '<f8')])"
      ]
     },
     "execution_count": 9,
     "metadata": {},
     "output_type": "execute_result"
    }
   ],
   "source": [
    "moves.dtype"
   ]
  },
  {
   "cell_type": "code",
   "execution_count": 10,
   "id": "f881de73-6947-4745-9484-28c8d24e7410",
   "metadata": {},
   "outputs": [
    {
     "data": {
      "text/plain": [
       "dtype([('petal_id', '<i8'), ('device_loc', '<i8'), ('pos_id', '<U6'), ('pos_calib_index', '<i8'), ('time_recorded', 'O'), ('bus_id', '<U5'), ('length_r1', '<f8'), ('length_r2', '<f8'), ('offset_x', '<f8'), ('offset_y', '<f8'), ('offset_t', '<f8'), ('offset_p', '<f8'), ('physical_range_t', '<f8'), ('physical_range_p', '<f8'), ('gear_calib_t', '<f8'), ('gear_calib_p', '<f8'), ('total_limit_seeks_t', '<f8'), ('total_limit_seeks_p', '<f8'), ('last_primary_hardstop_dir_t', '<f8'), ('last_primary_hardstop_dir_p', '<f8'), ('keepout_expansion_phi_radial', '<f8'), ('keepout_expansion_phi_angular', '<f8'), ('keepout_expansion_theta_radial', '<f8'), ('keepout_expansion_theta_angular', '<f8'), ('classified_as_retracted', '?'), ('site', '<U4'), ('calib_note', '<U516'), ('fiber_intact', '?'), ('device_classified_nonfunctional', 'O')])"
      ]
     },
     "execution_count": 10,
     "metadata": {},
     "output_type": "execute_result"
    }
   ],
   "source": [
    "cals.dtype"
   ]
  },
  {
   "cell_type": "code",
   "execution_count": 11,
   "id": "a4389d62-8039-4876-a698-a56f9c16077b",
   "metadata": {},
   "outputs": [
    {
     "data": {
      "text/html": [
       "<i>Table length=1</i>\n",
       "<table id=\"table46913351668496\" class=\"table-striped table-bordered table-condensed\">\n",
       "<thead><tr><th>pos_id</th><th>log_note</th><th>obs_x</th><th>obs_y</th><th>x_flat</th><th>y_flat</th></tr></thead>\n",
       "<thead><tr><th>str6</th><th>str266</th><th>float64</th><th>float64</th><th>float64</th><th>float64</th></tr></thead>\n",
       "<tr><td>M00282</td><td>sequence: RC_CALIB; phi arc +10; sequence_move_idx 8; move 9; CURR_SPIN_UP_DOWN=70; CURR_CRUISE=70; CURR_CREEP=70; req_posintTP=(-65.185, 132.970); req_ptlXYZ=(225.774, 25.919, -5.622)</td><td>197.85529472955</td><td>-111.717603100083</td><td>225.8733224754599</td><td>25.91566414308739</td></tr>\n",
       "</table>"
      ],
      "text/plain": [
       "<Table length=1>\n",
       "pos_id ...       y_flat     \n",
       " str6  ...      float64     \n",
       "------ ... -----------------\n",
       "M00282 ... 25.91566414308739"
      ]
     },
     "execution_count": 11,
     "metadata": {},
     "output_type": "execute_result"
    }
   ],
   "source": [
    "moves[:1]"
   ]
  },
  {
   "cell_type": "code",
   "execution_count": 12,
   "id": "473fc286-9117-4d71-9e4b-ab540c37f748",
   "metadata": {},
   "outputs": [],
   "source": [
    "def dje_fit_circle_old(x,y,diag=False):\n",
    "    # Alas, the base implementation has the annoying property that \n",
    "    # it raises an error if the radius is outside [1,5], despite that\n",
    "    # retracted positioners will yield small radius circles.\n",
    "    # We're going to hack this here.\n",
    "    try: \n",
    "         xc,yc,r = fit_circle(x, y)\n",
    "    except: \n",
    "        try: \n",
    "            if diag: print(\"Refitting x4\")\n",
    "            xc,yc,r = fit_circle(4*x,4*y)\n",
    "            xc = xc/4\n",
    "            yc = yc/4\n",
    "            r = r/4\n",
    "        except:\n",
    "            try: \n",
    "                if diag: print(\"Refitting /4\")\n",
    "                xc,yc,r = fit_circle(0.25*x,0.25*y)\n",
    "                xc = xc*4\n",
    "                yc = yc*4\n",
    "                r = r*4\n",
    "            except:\n",
    "                try: \n",
    "                    if diag: print(\"Refitting x16\")\n",
    "                    xc,yc,r = fit_circle(16*x,16*y)\n",
    "                    xc = xc/16\n",
    "                    yc = yc/16\n",
    "                    r = r/16\n",
    "                except:\n",
    "                    if diag: print(\"Giving up on fitting in dje_fit_circle_old\")\n",
    "                    return None\n",
    "    return xc,yc,r\n",
    "\n",
    "def dje_fit_circle(x,y,tol,diag=False):\n",
    "    # Alas, the base implementation has the annoying property that \n",
    "    # it raises an error if the radius is outside [1,5], despite that\n",
    "    # retracted positioners will yield small radius circles.\n",
    "    # We're going to hack this here.\n",
    "    \n",
    "    # Use a median-based fit and then reject 10x(tol) outliers from it.\n",
    "    x_m, y_m, r_m = _fast_fit_circle(x, y, use_median=True)\n",
    "    if diag: print(\"Median:\", x_m, y_m, r_m)\n",
    "    chi = np.abs(np.sqrt((x-x_m)**2+(y-y_m)**2)-r_m)/tol\n",
    "    sel = (chi<10)\n",
    "    if (np.sum(sel)<5): \n",
    "        if diag: print(f\"Rejected {np.sum(~sel)} points after median\")\n",
    "        if diag: print(\"Chi of points: \",chi)\n",
    "        return None\n",
    "    # Now do the proper mean-based fit with the retained objects.\n",
    "    if diag: print(np.sum(sel), \"used in dje_fit_circle()\")\n",
    "    ret = dje_fit_circle_old(x[sel], y[sel], diag=diag)\n",
    "    if ret: xc, yc, r = ret\n",
    "    else: \n",
    "        if diag: print(\"Accepting the median-based fit\")\n",
    "        x_m, y_m, r_m = _fast_fit_circle(x[sel], y[sel], use_median=True)\n",
    "        return x_m, y_m, r_m\n",
    "        #return None\n",
    "    if diag: print(\"Mean:  \", xc, yc, r)\n",
    "    return xc, yc, r"
   ]
  },
  {
   "cell_type": "code",
   "execution_count": 13,
   "id": "ad8b37c6-3213-4a9c-9d85-8e1cbc5fbdba",
   "metadata": {},
   "outputs": [],
   "source": [
    "def wrapped_angle_range_old(ang):\n",
    "    ang = ang-np.median(ang)\n",
    "    ang = np.where(ang>np.pi, ang-2*np.pi, ang)\n",
    "    ang = np.where(ang<-np.pi, ang+2*np.pi, ang)\n",
    "    return np.max(ang)-np.min(ang)\n",
    "\n",
    "def wrapped_angle_range(ang):\n",
    "    for n in range(1,len(ang)):\n",
    "        if ang[n]-ang[n-1]<-180: ang[n] = ang[n]+360.0\n",
    "        if ang[n]-ang[n-1]>180: ang[n] = ang[n]-360.0\n",
    "    return np.max(ang)-np.min(ang)\n",
    "\n",
    "def prune_moves_old(x,y,tol):\n",
    "    # We occasionally have points that are very close to each other\n",
    "    sel = (x<1e10)   # Start with everything True\n",
    "    enum = np.arange(len(x))\n",
    "    tol2 = tol*tol\n",
    "    for n in range(len(x)):\n",
    "        sel = np.where( ((x-x[n])**2+(y-y[n])**2<tol2)&(enum>n)&sel, False, sel)\n",
    "    x = x[sel]\n",
    "    y = y[sel]\n",
    "    return x,y,np.sum(~sel)\n",
    "\n",
    "def prune_moves(x,y,tol):\n",
    "    # We occasionally have points that are very close to their neighbor\n",
    "    sel = (x<1e10)   # Start with everything True\n",
    "    tol2 = tol*tol\n",
    "    sel[1:] = ((x[1:]-x[:-1])**2+(y[1:]-y[:-1])**2>tol2)  # Differs from neighbor\n",
    "    x = x[sel]\n",
    "    y = y[sel]\n",
    "    return x,y,np.sum(~sel)\n",
    "\n",
    "def fit_arc(move,pos_id,tol,cen=[],diag=False,ignore=0):\n",
    "    # Returning range=-9: insufficient data at the start\n",
    "    # Returning range=-5: <=3 non-duplicate data points\n",
    "    # Returning range=-8, -3 after rejection: data shows a small rms extent, probably no motor motion\n",
    "    # Returning range=-2: insufficient data after rejection\n",
    "    # Returning range=-1: fit_circle otherwise failed\n",
    "    # tol is the pruning tolerance, in microns\n",
    "    # If cen is given, then it is a vector to refer phi=180 to\n",
    "    def error(val): return np.array([0.0,0.0,0.0,0.0,val,0.0,len(x),Nprune,0.0,0.0,0.0]), None\n",
    "    x = move['x_flat']\n",
    "    y = move['y_flat']\n",
    "    nreq = (len(x)+2)//2\n",
    "    Nprune = 0\n",
    "    tol = tol/5000.0   # We use millimeters in the code, and we refer to 5-sigma.\n",
    "    if diag: print(len(x), \"moves to start\")\n",
    "    if (len(x)<nreq): return error(-9.0)\n",
    "    extent = np.sqrt(np.var(x)+np.var(y))\n",
    "    if extent<0.1: return error(-8.0)\n",
    "    \n",
    "    x,y,Nprune = prune_moves_old(x,y,0.02)   # Only keep points that differ by 20 microns\n",
    "    if diag: print(len(x), \"moves after prune_moves()\")\n",
    "    if (len(x)<4): return error(-5.0) \n",
    "\n",
    "    #try: xc,yc,r = \n",
    "    ret = dje_fit_circle(x, y, tol, diag=diag)\n",
    "    if ret: xc,yc,r = ret\n",
    "    else: return error(-1.01)\n",
    "    \n",
    "    # Do one attempt at rejecting points more than 30 microns from the result.\n",
    "    chi = np.abs(np.sqrt((x-xc)**2+(y-yc)**2)-r)/tol\n",
    "    if (np.max(chi)>5): \n",
    "        sel = (chi<5)\n",
    "        print(f\"{pos_id:s}: rejecting {np.sum(~sel)} points, largest chi={np.max(chi)}\")\n",
    "        x = x[sel]\n",
    "        y = y[sel]\n",
    "        if (len(x)<nreq): return error(-2.0) \n",
    "        extent = np.sqrt(np.var(x)+np.var(y))\n",
    "        if extent<0.05: return error(-3.0)\n",
    "        ret = dje_fit_circle(x, y, tol, diag=diag)\n",
    "        if ret: xc,yc,r = ret\n",
    "        else: return error(-1.02)\n",
    "        #try: xc,yc,r = dje_fit_circle(x, y, diag=diag)\n",
    "        #except: return error(-1.0)\n",
    "    \n",
    "    npoints = len(x)\n",
    "\n",
    "    def compute_chi2(params):\n",
    "        # params are xc,yc,r\n",
    "        # Assuming 10 micron spot errors per dimension\n",
    "        return np.sum(( np.sqrt((x-params[0])**2+(y-params[1])**2)-params[2])**2)/0.0001\n",
    "\n",
    "    # This is doing an extra optimization\n",
    "    initial = np.array([xc,yc,r])\n",
    "    optimizer_result = minimize(fun=compute_chi2, x0=initial, method='Powell', options={'maxiter':160})\n",
    "    if optimizer_result.success:\n",
    "        xc = optimizer_result.x[0]\n",
    "        yc = optimizer_result.x[1]\n",
    "        r  = optimizer_result.x[2]\n",
    "        p = optimizer_result.x\n",
    "    else:\n",
    "        print(\"Optimizer did not converge.\", pos_id, xc,yc,r, optimizer_result)\n",
    "        p = np.array([xc,yc,r])\n",
    "    \n",
    "    # Now attempt to find the Hessian of the chi2 surface\n",
    "    # chi2 = chi_0 + (1/2)d^2(chi)/dx_i dx_j * delta_i delta_j\n",
    "    #      = chi_0 + (1/2) hess_ij delta_i delta_j\n",
    "    # We compute this with both parities, so\n",
    "    # (chi2_pos+chi2_neg-2*chi_0) = hess_ij delta_i delta_j\n",
    "    def second_deriv(chi2,p,offset): return compute_chi2(p+offset)+compute_chi2(p-offset)-2*chi2\n",
    "    chi2 = compute_chi2(p)\n",
    "    hess = np.zeros([3,3])\n",
    "    hess[0,0] = second_deriv(chi2,p,[0.01,0.0 ,0.0 ])\n",
    "    hess[1,1] = second_deriv(chi2,p,[0.0 ,0.01,0.0 ])\n",
    "    hess[2,2] = second_deriv(chi2,p,[0.0 ,0.0 ,0.01])\n",
    "    hess[0,1] = (second_deriv(chi2,p,[0.01,0.01,0.0 ])-(hess[0,0]+hess[1,1]))/2.0\n",
    "    hess[0,2] = (second_deriv(chi2,p,[0.01,0.0 ,0.01])-(hess[0,0]+hess[2,2]))/2.0\n",
    "    hess[1,2] = (second_deriv(chi2,p,[0.0 ,0.01,0.01])-(hess[2,2]+hess[1,1]))/2.0\n",
    "    hess[1,0] = hess[0,1]\n",
    "    hess[2,0] = hess[0,2]\n",
    "    hess[2,1] = hess[1,2]\n",
    "    hess = hess/0.01/0.01    # Correct for the step sizes\n",
    "    hess = hess*((len(x)-3)/chi2)   # Renormalize to reduced chi2 of 1\n",
    "    #print(hess)\n",
    "    cov = numpy.linalg.inv(hess)\n",
    "    #print(np.linalg.eigh(cov))\n",
    "    try: \n",
    "        dg = np.diag(cov)\n",
    "        if (np.min(dg)<0): print(pos_id, \"Negative variance\", dg)\n",
    "        idg = np.where(dg>0.0, 1.0/np.sqrt(np.abs(dg)), 1.0)\n",
    "        rcov = (cov*dg).T*dg\n",
    "        #print(diag)\n",
    "        #print(rcov)    \n",
    "    except: pass\n",
    "    \n",
    "    ang = np.arctan2(y-yc,x-xc)*180.0/np.pi\n",
    "    ang_range = wrapped_angle_range(ang)\n",
    "    delta_ang = np.abs(np.remainder( (ang[1:]-ang[:-1])+540.0, 360.0)-180.0)\n",
    "    \n",
    "    # TODO: We opt to ignore the first 3 moves, because the theta arc does differently there.\n",
    "    median_ang_step = np.median(delta_ang[ignore:])\n",
    "    rms_ang_step = np.std(delta_ang[ignore:])\n",
    "    if len(cen)>0:\n",
    "        ang_c = np.arctan2(cen[1]-yc, cen[0]-xc)*180.0/np.pi\n",
    "        # We want to define that to be 180 deg\n",
    "        if diag: print(\"Central direction: \", ang_c)\n",
    "        ang = np.remainder(ang-ang_c+180.0+720.0, 360.0)\n",
    "        max_ang = np.max(ang)\n",
    "    else:\n",
    "        max_ang = -999.0\n",
    "    if diag: print(\"Angles:\", np.abs(median_ang_step), rms_ang_step, ang)\n",
    "\n",
    "    r_res = np.array(np.sqrt((x-xc)**2+(y-yc)**2)-r)\n",
    "    rms = np.sqrt(np.sum(r_res**2)/len(r_res))\n",
    "    #rms = np.sqrt(np.sum((np.sqrt((x-xc)**2+(y-yc)**2)-r)**2)/len(x))\n",
    "    if diag: print(\"Radial deviations (microns):\", 1000.0*r_res,\"\\n\")\n",
    "    return np.array([xc,yc,r,rms,ang_range, extent, npoints, Nprune, median_ang_step, rms_ang_step, max_ang]), cov"
   ]
  },
  {
   "cell_type": "code",
   "execution_count": 14,
   "id": "f753f35f-9424-4b49-b5c6-53be136c129b",
   "metadata": {},
   "outputs": [],
   "source": [
    "def fit_arcs(pos_id, moves, cals, new_cals, idx, diag=False, tol=30):\n",
    "    # tol is the pruning tolerance in microns\n",
    "    move = moves[(moves['pos_id']==pos_id)]\n",
    "    if not diag:\n",
    "        new_cals['arc_t'][idx] = -9.0\n",
    "        new_cals['arc_p'][idx] = -9.0\n",
    "    if (len(move)<1):\n",
    "        print(f\"{pos_id} has no moves in the DB\")\n",
    "        return\n",
    "    phi_arc = np.where(list([re_phi_arc.search(x) for x in move['log_note'] ]),True,False)\n",
    "    theta_arc = np.where(list([re_theta_arc.search(x) for x in move['log_note'] ]),True,False)\n",
    "    \n",
    "    theta_arc, theta_cov = fit_arc(move[theta_arc], pos_id, tol, diag=diag,ignore=3)\n",
    "    phi_arc, phi_cov = fit_arc(move[phi_arc], pos_id, tol, cen=theta_arc, diag=diag)\n",
    "\n",
    "    if phi_arc[2]>0.0 and theta_arc[2]>0.0:\n",
    "        theta_r = np.sqrt((phi_arc[0]-theta_arc[0])**2+(phi_arc[1]-theta_arc[1])**2)\n",
    "        # Estimate the phi where the theta arc was performed\n",
    "        # 1+cos(phi) = (r_arc**2 - [r1-r2])\n",
    "        theta_arc_phi = (theta_arc[2]**2-(phi_arc[2]-theta_r)**2)/(2.0*phi_arc[2]*theta_r)\n",
    "        if (theta_arc_phi>=0.0): theta_arc_phi = np.arccos(theta_arc_phi-1.0)*180/np.pi\n",
    "        else: theta_arc_phi = 180.0 \n",
    "        # Note that this value assumes phi<180, but values at phi>180 aren't excluded!\n",
    "    else:\n",
    "        theta_r = 0.0\n",
    "        theta_arc_phi = 0.0\n",
    "    \n",
    "    if diag: \n",
    "        print(\"Theta arc:\", theta_arc)\n",
    "        print(\"Phi arc:  \", phi_arc)\n",
    "        print(\"Theta rad:\", theta_r)\n",
    "        print(\"Theta_arc_phi:\", theta_arc_phi)\n",
    "        return   # Don't overwrite the new_cals Table\n",
    "    new_cals['offset_x'][idx] = theta_arc[0]\n",
    "    new_cals['offset_y'][idx] = theta_arc[1]\n",
    "    new_cals['length_r1'][idx] = theta_r\n",
    "    new_cals['length_r2'][idx] = phi_arc[2]\n",
    "    new_cals['err.length_r2'][idx] = 9.99\n",
    "    if phi_cov is not None: \n",
    "        if phi_cov[2,2]>=0.0: new_cals['err.length_r2'][idx] = np.sqrt(phi_cov[2,2])\n",
    "    if theta_cov is not None: \n",
    "        if theta_cov[2,2]>=0.0: new_cals['err.offset_xy'][idx] = np.sqrt(theta_cov[0,0]+theta_cov[1,1])    \n",
    "    new_cals['arc_t'][idx] = theta_arc[4]\n",
    "    new_cals['arc_p'][idx] = phi_arc[4]\n",
    "    new_cals['rms_t'][idx] = theta_arc[3]\n",
    "    new_cals['rms_p'][idx] = phi_arc[3]\n",
    "    new_cals['nfit_t'][idx] = theta_arc[6]\n",
    "    new_cals['nfit_p'][idx] = phi_arc[6]\n",
    "    new_cals['nprune_t'][idx] = theta_arc[7]\n",
    "    new_cals['nprune_p'][idx] = phi_arc[7]\n",
    "    new_cals['theta_arc_radius'][idx] = theta_arc[2]\n",
    "    new_cals['theta_arc_phi'][idx] = theta_arc_phi\n",
    "    new_cals['median_angstep_t'][idx] = theta_arc[8]\n",
    "    new_cals['median_angstep_p'][idx] = phi_arc[8]\n",
    "    new_cals['rms_angstep_t'][idx] = theta_arc[9]\n",
    "    new_cals['rms_angstep_p'][idx] = phi_arc[9]\n",
    "    new_cals['max_p'][idx] = phi_arc[10]\n",
    "\n",
    "    return"
   ]
  },
  {
   "cell_type": "code",
   "execution_count": 15,
   "id": "b141bdf7-2387-4613-ac9f-2fe8d0dcdbbd",
   "metadata": {
    "collapsed": true,
    "jupyter": {
     "outputs_hidden": true
    },
    "tags": []
   },
   "outputs": [
    {
     "name": "stdout",
     "output_type": "stream",
     "text": [
      "M00283 has no moves in the DB\n",
      "M00436 has no moves in the DB\n",
      "M00469 has no moves in the DB\n",
      "M01058 has no moves in the DB\n",
      "M01080 has no moves in the DB\n",
      "M01095 has no moves in the DB\n",
      "M01102 has no moves in the DB\n",
      "M01106 has no moves in the DB\n",
      "M01133 has no moves in the DB\n",
      "M01190 has no moves in the DB\n",
      "M01224 has no moves in the DB\n",
      "M01276 has no moves in the DB\n",
      "M01282 has no moves in the DB\n",
      "M01289 has no moves in the DB\n",
      "M01364 has no moves in the DB\n",
      "M01376 has no moves in the DB\n",
      "M01381 has no moves in the DB\n",
      "M01405 has no moves in the DB\n",
      "M01421 has no moves in the DB\n",
      "M01468 has no moves in the DB\n",
      "M01482 has no moves in the DB\n",
      "M01484 has no moves in the DB\n",
      "M01485 has no moves in the DB\n",
      "M01489 has no moves in the DB\n",
      "M01490 has no moves in the DB\n",
      "M01491 has no moves in the DB\n",
      "M01496 has no moves in the DB\n",
      "M01497 has no moves in the DB\n",
      "M01576 has no moves in the DB\n",
      "M01613 has no moves in the DB\n",
      "M01616 has no moves in the DB\n",
      "M01632 has no moves in the DB\n",
      "M01677 has no moves in the DB\n",
      "M01679 has no moves in the DB\n",
      "M01684 has no moves in the DB\n",
      "M01686 has no moves in the DB\n",
      "M01690 has no moves in the DB\n",
      "M01697 has no moves in the DB\n",
      "M01706 has no moves in the DB\n",
      "M01709 has no moves in the DB\n",
      "M01719 has no moves in the DB\n",
      "M01725 has no moves in the DB\n",
      "M01727 has no moves in the DB\n",
      "M01749 has no moves in the DB\n",
      "M01750 has no moves in the DB\n",
      "M01758 has no moves in the DB\n",
      "M01759 has no moves in the DB\n",
      "M01764 has no moves in the DB\n",
      "M01768 has no moves in the DB\n",
      "M01778 has no moves in the DB\n",
      "M01784 has no moves in the DB\n",
      "M01806 has no moves in the DB\n",
      "M01831 has no moves in the DB\n",
      "M01834 has no moves in the DB\n",
      "M01861 has no moves in the DB\n",
      "M01865 has no moves in the DB\n",
      "M01875 has no moves in the DB\n",
      "M01887 has no moves in the DB\n",
      "M01896 has no moves in the DB\n",
      "M01929 has no moves in the DB\n",
      "M01946 has no moves in the DB\n",
      "M01953 has no moves in the DB\n",
      "M01956 has no moves in the DB\n",
      "M01976 has no moves in the DB\n",
      "M02060 has no moves in the DB\n",
      "M02065 has no moves in the DB\n",
      "M02128 has no moves in the DB\n",
      "M02164 has no moves in the DB\n",
      "M02174 has no moves in the DB\n",
      "M02177 has no moves in the DB\n",
      "M02190 has no moves in the DB\n",
      "M02240 has no moves in the DB\n",
      "M02248 has no moves in the DB\n",
      "M02254 has no moves in the DB\n",
      "M02258 has no moves in the DB\n",
      "M02262 has no moves in the DB\n",
      "M02264 has no moves in the DB\n",
      "M02323 has no moves in the DB\n",
      "M02328 has no moves in the DB\n",
      "M02351 has no moves in the DB\n",
      "M02358 has no moves in the DB\n",
      "M02361 has no moves in the DB\n",
      "M02367 has no moves in the DB\n",
      "M02369 has no moves in the DB\n",
      "M02372 has no moves in the DB\n",
      "M02384 has no moves in the DB\n",
      "M02430 has no moves in the DB\n",
      "M02433 has no moves in the DB\n",
      "M02440 has no moves in the DB\n",
      "M02444 has no moves in the DB\n",
      "M02449 has no moves in the DB\n",
      "M02453 has no moves in the DB\n",
      "M02467 has no moves in the DB\n",
      "M02469 has no moves in the DB\n",
      "M02472 has no moves in the DB\n",
      "M02474 has no moves in the DB\n",
      "M02480 has no moves in the DB\n",
      "M02481 has no moves in the DB\n",
      "M02482 has no moves in the DB\n",
      "M02488 has no moves in the DB\n",
      "M02490 has no moves in the DB\n",
      "M02492 has no moves in the DB\n",
      "M02493 has no moves in the DB\n",
      "M02499 has no moves in the DB\n",
      "M02500 has no moves in the DB\n",
      "M02502 has no moves in the DB\n",
      "M02505 has no moves in the DB\n",
      "M02518 has no moves in the DB\n",
      "M02525 has no moves in the DB\n",
      "M02547 has no moves in the DB\n",
      "M02561 has no moves in the DB\n",
      "M02567 has no moves in the DB\n",
      "M02582 has no moves in the DB\n",
      "M02668 has no moves in the DB\n",
      "M02712 has no moves in the DB\n",
      "M02718 has no moves in the DB\n",
      "M02719 has no moves in the DB\n",
      "M02720 has no moves in the DB\n",
      "M02721 has no moves in the DB\n",
      "M02723 has no moves in the DB\n",
      "M02732 has no moves in the DB\n",
      "M02733 has no moves in the DB\n",
      "M02734 has no moves in the DB\n",
      "M02747 has no moves in the DB\n",
      "M02763 has no moves in the DB\n",
      "M02767 has no moves in the DB\n",
      "M02789 has no moves in the DB\n",
      "M02792 has no moves in the DB\n",
      "M02809 has no moves in the DB\n",
      "M02841 has no moves in the DB\n",
      "M02848 has no moves in the DB\n",
      "M02889 has no moves in the DB\n",
      "M02891 has no moves in the DB\n",
      "M02905 has no moves in the DB\n",
      "M02930 has no moves in the DB\n",
      "M02947 has no moves in the DB\n",
      "M02956 has no moves in the DB\n",
      "M02995 has no moves in the DB\n",
      "M03003 has no moves in the DB\n",
      "M03008 has no moves in the DB\n",
      "M03009 has no moves in the DB\n",
      "M03017 has no moves in the DB\n",
      "M03020 has no moves in the DB\n",
      "M03024 has no moves in the DB\n",
      "M03026 has no moves in the DB\n",
      "M03028 has no moves in the DB\n",
      "M03037 has no moves in the DB\n",
      "M03060 has no moves in the DB\n",
      "M03061 has no moves in the DB\n",
      "M03067 has no moves in the DB\n",
      "M03073 has no moves in the DB\n",
      "M03075 has no moves in the DB\n",
      "M03077 has no moves in the DB\n",
      "M03082 has no moves in the DB\n",
      "M03084 has no moves in the DB\n",
      "M03086 has no moves in the DB\n",
      "M03090 has no moves in the DB\n",
      "M03092 has no moves in the DB\n",
      "M03095 has no moves in the DB\n",
      "M03099 has no moves in the DB\n",
      "M03104 has no moves in the DB\n",
      "M03108 has no moves in the DB\n",
      "M03112 has no moves in the DB\n",
      "M03118 has no moves in the DB\n",
      "M03119 has no moves in the DB\n",
      "M03120 has no moves in the DB\n",
      "M03122 has no moves in the DB\n",
      "M03125 has no moves in the DB\n",
      "M03126 has no moves in the DB\n",
      "M03133 has no moves in the DB\n",
      "M03137 has no moves in the DB\n",
      "M03146 has no moves in the DB\n",
      "M03148 has no moves in the DB\n",
      "M03151 has no moves in the DB\n",
      "M03156 has no moves in the DB\n",
      "M03159 has no moves in the DB\n",
      "M03163 has no moves in the DB\n",
      "M03167 has no moves in the DB\n",
      "M03168 has no moves in the DB\n",
      "M03172 has no moves in the DB\n",
      "M03173: rejecting 1 points, largest chi=11.73439563227822\n",
      "M03175 has no moves in the DB\n",
      "M03182 has no moves in the DB\n",
      "M03186 has no moves in the DB\n",
      "M03187 has no moves in the DB\n",
      "M03191 has no moves in the DB\n",
      "M03199 has no moves in the DB\n",
      "M03219 has no moves in the DB\n",
      "M03230 has no moves in the DB\n",
      "M03232 has no moves in the DB\n",
      "M03235 has no moves in the DB\n",
      "M03242 has no moves in the DB\n",
      "M03250 has no moves in the DB\n",
      "M03253 has no moves in the DB\n",
      "M03254 has no moves in the DB\n",
      "M03256 has no moves in the DB\n",
      "M03261 has no moves in the DB\n",
      "M03262 has no moves in the DB\n",
      "M03268 has no moves in the DB\n",
      "M03281 has no moves in the DB\n",
      "M03285 has no moves in the DB\n",
      "M03289 has no moves in the DB\n",
      "M03292 has no moves in the DB\n",
      "M03293 has no moves in the DB\n",
      "M03294 has no moves in the DB\n",
      "M03296 has no moves in the DB\n",
      "M03307 has no moves in the DB\n",
      "M03315 has no moves in the DB\n",
      "M03319 has no moves in the DB\n",
      "M03321 has no moves in the DB\n",
      "M03322 has no moves in the DB\n",
      "M03327 has no moves in the DB\n",
      "M03330 has no moves in the DB\n",
      "M03334 has no moves in the DB\n",
      "M03336 has no moves in the DB\n",
      "M03348 has no moves in the DB\n",
      "M03349 has no moves in the DB\n",
      "M03356 has no moves in the DB\n",
      "M03360 has no moves in the DB\n",
      "M03361 has no moves in the DB\n",
      "M03379 has no moves in the DB\n",
      "M03390 has no moves in the DB\n",
      "M03392 has no moves in the DB\n",
      "M03405 has no moves in the DB\n",
      "M03408 has no moves in the DB\n",
      "M03409 has no moves in the DB\n",
      "M03415 has no moves in the DB\n",
      "M03418 has no moves in the DB\n",
      "M03427 has no moves in the DB\n",
      "M03432 has no moves in the DB\n",
      "M03443 has no moves in the DB\n",
      "M03444 has no moves in the DB\n",
      "M03446 has no moves in the DB\n",
      "M03452 has no moves in the DB\n",
      "M03454 has no moves in the DB\n",
      "M03455 has no moves in the DB\n",
      "M03456 has no moves in the DB\n",
      "M03461 has no moves in the DB\n",
      "M03464 has no moves in the DB\n",
      "M03469 has no moves in the DB\n",
      "M03476 has no moves in the DB\n",
      "M03478 has no moves in the DB\n",
      "M03491 has no moves in the DB\n",
      "M03493 has no moves in the DB\n",
      "M03501 has no moves in the DB\n",
      "M03503 has no moves in the DB\n",
      "M03506 has no moves in the DB\n",
      "M03508 has no moves in the DB\n",
      "M03510 has no moves in the DB\n",
      "M03513 has no moves in the DB\n",
      "M03514 has no moves in the DB\n",
      "M03515 has no moves in the DB\n",
      "M03519 has no moves in the DB\n",
      "M03520 has no moves in the DB\n",
      "M03527 has no moves in the DB\n",
      "M03528 has no moves in the DB\n",
      "M03530 has no moves in the DB\n",
      "M03538 has no moves in the DB\n",
      "M03545 has no moves in the DB\n",
      "M03552 has no moves in the DB\n",
      "M03554 has no moves in the DB\n",
      "M03555 has no moves in the DB\n",
      "M03558 has no moves in the DB\n",
      "M03564 has no moves in the DB\n",
      "M03568 has no moves in the DB\n",
      "M03570 has no moves in the DB\n",
      "M03572 has no moves in the DB\n",
      "M03574 has no moves in the DB\n",
      "M03578 has no moves in the DB\n",
      "M03583 has no moves in the DB\n",
      "M03584 has no moves in the DB\n",
      "M03587 has no moves in the DB\n",
      "M03588 has no moves in the DB\n",
      "M03589 has no moves in the DB\n",
      "M03594 has no moves in the DB\n",
      "M03596 has no moves in the DB\n",
      "M03598 has no moves in the DB\n",
      "M03599 has no moves in the DB\n",
      "M03601 has no moves in the DB\n",
      "M03605 has no moves in the DB\n",
      "M03607 has no moves in the DB\n",
      "M03609 has no moves in the DB\n",
      "M03613 has no moves in the DB\n",
      "M03614 has no moves in the DB\n",
      "M03618 has no moves in the DB\n",
      "M03622 has no moves in the DB\n",
      "M03630 has no moves in the DB\n",
      "M03633 has no moves in the DB\n",
      "M03638 has no moves in the DB\n",
      "M03639 has no moves in the DB\n",
      "M03642 has no moves in the DB\n",
      "M03645 has no moves in the DB\n",
      "M03646 has no moves in the DB\n",
      "M03649 has no moves in the DB\n",
      "M03650 has no moves in the DB\n",
      "M03651 has no moves in the DB\n",
      "M03653 has no moves in the DB\n",
      "M03654 has no moves in the DB\n",
      "M03655 has no moves in the DB\n",
      "M03656 has no moves in the DB\n",
      "M03659 has no moves in the DB\n",
      "M03661 has no moves in the DB\n",
      "M03668 has no moves in the DB\n",
      "M03672 has no moves in the DB\n",
      "M03675 has no moves in the DB\n",
      "M03676 has no moves in the DB\n",
      "M03680 has no moves in the DB\n",
      "M03684 has no moves in the DB\n",
      "M03686 has no moves in the DB\n",
      "M03688 has no moves in the DB\n",
      "M03696 has no moves in the DB\n",
      "M03697 has no moves in the DB\n",
      "M03700 has no moves in the DB\n",
      "M03701 has no moves in the DB\n",
      "M03703 has no moves in the DB\n",
      "M03710 has no moves in the DB\n",
      "M03711 has no moves in the DB\n",
      "M03712 has no moves in the DB\n",
      "M03719 has no moves in the DB\n",
      "M03721 has no moves in the DB\n",
      "M03725 has no moves in the DB\n",
      "M03729 has no moves in the DB\n",
      "M03733 has no moves in the DB\n",
      "M03734 has no moves in the DB\n",
      "M03735 has no moves in the DB\n",
      "M03743 has no moves in the DB\n",
      "M03757 has no moves in the DB\n",
      "M03767 has no moves in the DB\n",
      "M03769 has no moves in the DB\n",
      "M03770 has no moves in the DB\n",
      "M03771 has no moves in the DB\n",
      "M03772 has no moves in the DB\n",
      "M03777 has no moves in the DB\n",
      "M03778 has no moves in the DB\n",
      "M03784 has no moves in the DB\n",
      "M03786 has no moves in the DB\n",
      "M03792 has no moves in the DB\n",
      "M03794 has no moves in the DB\n",
      "M03798 has no moves in the DB\n",
      "M03802 has no moves in the DB\n",
      "M03807 has no moves in the DB\n",
      "M03809 has no moves in the DB\n",
      "M03811 has no moves in the DB\n",
      "M03816 has no moves in the DB\n",
      "M03818 has no moves in the DB\n",
      "M03820 has no moves in the DB\n",
      "M03827 has no moves in the DB\n",
      "M03831 has no moves in the DB\n",
      "M03837 has no moves in the DB\n",
      "M03841 has no moves in the DB\n",
      "M03848 has no moves in the DB\n",
      "M03871 has no moves in the DB\n",
      "M03873 has no moves in the DB\n",
      "M03874 has no moves in the DB\n",
      "M03887 has no moves in the DB\n",
      "M03889 has no moves in the DB\n",
      "M03906 has no moves in the DB\n",
      "M03913 has no moves in the DB\n",
      "M03915 has no moves in the DB\n",
      "M03917 has no moves in the DB\n",
      "M03922 has no moves in the DB\n",
      "M03925 has no moves in the DB\n",
      "M03935 has no moves in the DB\n",
      "M03940 has no moves in the DB\n",
      "M03941 has no moves in the DB\n",
      "M03943 has no moves in the DB\n",
      "M03944 has no moves in the DB\n",
      "M03945 has no moves in the DB\n",
      "M03947 has no moves in the DB\n",
      "M03950 has no moves in the DB\n",
      "M03954 has no moves in the DB\n",
      "M03961 has no moves in the DB\n",
      "M03962 has no moves in the DB\n",
      "M03963 has no moves in the DB\n",
      "M03966 has no moves in the DB\n",
      "M03972 has no moves in the DB\n",
      "M03974 has no moves in the DB\n",
      "M03975 has no moves in the DB\n",
      "M03978 has no moves in the DB\n",
      "M03979 has no moves in the DB\n",
      "M03981 has no moves in the DB\n",
      "M03983 has no moves in the DB\n",
      "M03986 has no moves in the DB\n",
      "M03987 has no moves in the DB\n",
      "M03989 has no moves in the DB\n",
      "M03990 has no moves in the DB\n",
      "M03992 has no moves in the DB\n",
      "M03995 has no moves in the DB\n",
      "M03998 has no moves in the DB\n",
      "M04001 has no moves in the DB\n",
      "M04006 has no moves in the DB\n",
      "M04010 has no moves in the DB\n",
      "M04012 has no moves in the DB\n",
      "M04013 has no moves in the DB\n",
      "M04019 has no moves in the DB\n",
      "M04022 has no moves in the DB\n",
      "M04031 has no moves in the DB\n",
      "M04044 has no moves in the DB\n",
      "M04050 has no moves in the DB\n",
      "M04052 has no moves in the DB\n",
      "M04055 has no moves in the DB\n",
      "M04056 has no moves in the DB\n",
      "M04058 has no moves in the DB\n",
      "M04060 has no moves in the DB\n",
      "M04062 has no moves in the DB\n",
      "M04064 has no moves in the DB\n",
      "M04066 has no moves in the DB\n",
      "M04078 has no moves in the DB\n",
      "M04080 has no moves in the DB\n",
      "M04083 has no moves in the DB\n",
      "M04084 has no moves in the DB\n",
      "M04085 has no moves in the DB\n",
      "M04086 has no moves in the DB\n",
      "M04133 has no moves in the DB\n",
      "M04138 has no moves in the DB\n",
      "M04161 has no moves in the DB\n",
      "M04174 has no moves in the DB\n",
      "M04178 has no moves in the DB\n",
      "M04179 has no moves in the DB\n",
      "M04191 has no moves in the DB\n",
      "M04197 has no moves in the DB\n",
      "M04199 has no moves in the DB\n",
      "M04201 has no moves in the DB\n",
      "M04205 has no moves in the DB\n",
      "M04213 has no moves in the DB\n",
      "M04217 has no moves in the DB\n",
      "M04235 has no moves in the DB\n",
      "M04243 has no moves in the DB\n",
      "M04253 has no moves in the DB\n",
      "M04262 has no moves in the DB\n",
      "M04265 has no moves in the DB\n",
      "M04270 has no moves in the DB\n",
      "M04271 has no moves in the DB\n",
      "M04283 has no moves in the DB\n",
      "M04306 has no moves in the DB\n",
      "M04307 has no moves in the DB\n",
      "M04309 has no moves in the DB\n",
      "M04310 has no moves in the DB\n",
      "M04316 has no moves in the DB\n",
      "M04318 has no moves in the DB\n",
      "M04319 has no moves in the DB\n",
      "M04329 has no moves in the DB\n",
      "M04330 has no moves in the DB\n",
      "M04337 has no moves in the DB\n",
      "M04343 has no moves in the DB\n",
      "M04350 has no moves in the DB\n",
      "M04354 has no moves in the DB\n",
      "M04356 has no moves in the DB\n",
      "M04361 has no moves in the DB\n",
      "M04363 has no moves in the DB\n",
      "M04366 has no moves in the DB\n",
      "M04373 has no moves in the DB\n",
      "M04376 has no moves in the DB\n",
      "M04377 has no moves in the DB\n",
      "M04379 has no moves in the DB\n",
      "M04383 has no moves in the DB\n",
      "M04385 has no moves in the DB\n",
      "M04386 has no moves in the DB\n",
      "M04389 has no moves in the DB\n",
      "M04396 has no moves in the DB\n",
      "M04401 has no moves in the DB\n",
      "M04408 has no moves in the DB\n",
      "M04416 has no moves in the DB\n",
      "M04418 has no moves in the DB\n",
      "M04422 has no moves in the DB\n",
      "M04451 has no moves in the DB\n",
      "M04478 has no moves in the DB\n",
      "M04493 has no moves in the DB\n",
      "M04497 has no moves in the DB\n",
      "M04499 has no moves in the DB\n",
      "M04507 has no moves in the DB\n",
      "M04508 has no moves in the DB\n",
      "M04515 has no moves in the DB\n",
      "M04519 has no moves in the DB\n",
      "M04529 has no moves in the DB\n",
      "M04547 has no moves in the DB\n",
      "M04556 has no moves in the DB\n",
      "M04569 has no moves in the DB\n",
      "M04583 has no moves in the DB\n",
      "M04585 has no moves in the DB\n",
      "M04588 has no moves in the DB\n",
      "M04595 has no moves in the DB\n",
      "M04596 has no moves in the DB\n",
      "M04601 has no moves in the DB\n",
      "M04606 has no moves in the DB\n",
      "M04619 has no moves in the DB\n",
      "M04635 has no moves in the DB\n",
      "M04641 has no moves in the DB\n",
      "M04661 has no moves in the DB\n",
      "M04711 has no moves in the DB\n",
      "M04712 has no moves in the DB\n",
      "M04718 has no moves in the DB\n",
      "M04722 has no moves in the DB\n",
      "M04744 has no moves in the DB\n",
      "M04763 has no moves in the DB\n",
      "M04775 has no moves in the DB\n",
      "M04788 has no moves in the DB\n",
      "M04792 has no moves in the DB\n",
      "M04834 has no moves in the DB\n",
      "M04843 has no moves in the DB\n",
      "M04849 has no moves in the DB\n",
      "M04882 has no moves in the DB\n",
      "M04915 has no moves in the DB\n",
      "M04980 has no moves in the DB\n",
      "M04981 has no moves in the DB\n",
      "M04982 has no moves in the DB\n",
      "M04984 has no moves in the DB\n",
      "M04995 has no moves in the DB\n",
      "M04999 has no moves in the DB\n",
      "M05000 has no moves in the DB\n",
      "M05011 has no moves in the DB\n",
      "M05013 has no moves in the DB\n",
      "M05018 has no moves in the DB\n",
      "M05029 has no moves in the DB\n",
      "M05030 has no moves in the DB\n",
      "M05038 has no moves in the DB\n",
      "M05040 has no moves in the DB\n",
      "M05042 has no moves in the DB\n",
      "M05048 has no moves in the DB\n",
      "M05052 has no moves in the DB\n",
      "M05055 has no moves in the DB\n",
      "M05062 has no moves in the DB\n",
      "M05066 has no moves in the DB\n",
      "M05070 has no moves in the DB\n",
      "M05074 has no moves in the DB\n",
      "M05078 has no moves in the DB\n",
      "M05084 has no moves in the DB\n",
      "M05086 has no moves in the DB\n",
      "M05089 has no moves in the DB\n",
      "M05090 has no moves in the DB\n",
      "M05096 has no moves in the DB\n",
      "M05107 has no moves in the DB\n",
      "M05112 has no moves in the DB\n",
      "M05114 has no moves in the DB\n",
      "M05119 has no moves in the DB\n",
      "M05132 has no moves in the DB\n",
      "M05143 has no moves in the DB\n",
      "M05152 has no moves in the DB\n",
      "M05178 has no moves in the DB\n",
      "M05179 has no moves in the DB\n",
      "M05203 has no moves in the DB\n",
      "M05209: rejecting 1 points, largest chi=18.340259601769954\n",
      "M05209: rejecting 2 points, largest chi=10.493315752299134\n",
      "M05211 has no moves in the DB\n",
      "M05218 has no moves in the DB\n",
      "M05262 has no moves in the DB\n",
      "M05264 has no moves in the DB\n",
      "M05268 has no moves in the DB\n",
      "M05273 has no moves in the DB\n",
      "M05300 has no moves in the DB\n",
      "M05322 has no moves in the DB\n",
      "M05353 has no moves in the DB\n",
      "M05361 has no moves in the DB\n",
      "M05362 has no moves in the DB\n",
      "M05363 has no moves in the DB\n",
      "M05376 has no moves in the DB\n",
      "M05398 has no moves in the DB\n",
      "M05439 has no moves in the DB\n",
      "M05445 has no moves in the DB\n",
      "M05453 has no moves in the DB\n",
      "M05461 has no moves in the DB\n",
      "M05471 has no moves in the DB\n",
      "M05472 has no moves in the DB\n",
      "M05473 has no moves in the DB\n",
      "M05478 has no moves in the DB\n",
      "M05499 has no moves in the DB\n",
      "M05506 has no moves in the DB\n",
      "M05508 has no moves in the DB\n",
      "M05509 has no moves in the DB\n",
      "M05515 has no moves in the DB\n",
      "M05530 has no moves in the DB\n",
      "M05556 has no moves in the DB\n",
      "M05570 has no moves in the DB\n",
      "M05586: rejecting 1 points, largest chi=5.7629310746959055\n",
      "M05607 has no moves in the DB\n",
      "M05612 has no moves in the DB\n",
      "M05638 has no moves in the DB\n",
      "M05641 has no moves in the DB\n",
      "M05671 has no moves in the DB\n",
      "M05675 has no moves in the DB\n",
      "M05681 has no moves in the DB\n",
      "M05684 has no moves in the DB\n",
      "M05703 has no moves in the DB\n",
      "M05707 has no moves in the DB\n",
      "M05709 has no moves in the DB\n",
      "M05711 has no moves in the DB\n",
      "M05713 has no moves in the DB\n",
      "M05715 has no moves in the DB\n",
      "M05716 has no moves in the DB\n",
      "M05717 has no moves in the DB\n",
      "M05721 has no moves in the DB\n",
      "M05747 has no moves in the DB\n",
      "M05748 has no moves in the DB\n",
      "M05749 has no moves in the DB\n",
      "M05750 has no moves in the DB\n",
      "M05762 has no moves in the DB\n",
      "M05768 has no moves in the DB\n",
      "M05784 has no moves in the DB\n",
      "M05785 has no moves in the DB\n",
      "M05792 has no moves in the DB\n",
      "M05793 has no moves in the DB\n",
      "M05797 has no moves in the DB\n",
      "M05829 has no moves in the DB\n",
      "M05831 has no moves in the DB\n",
      "M05836 has no moves in the DB\n",
      "M05854 has no moves in the DB\n",
      "M05856 has no moves in the DB\n",
      "M05857 has no moves in the DB\n",
      "M05858 has no moves in the DB\n",
      "M05859 has no moves in the DB\n",
      "M05862 has no moves in the DB\n",
      "M05882 has no moves in the DB\n",
      "M05885 has no moves in the DB\n",
      "M05886 has no moves in the DB\n",
      "M05888 has no moves in the DB\n",
      "M05890 has no moves in the DB\n",
      "M05891 has no moves in the DB\n",
      "M05901 has no moves in the DB\n",
      "M05902 has no moves in the DB\n",
      "M05903 has no moves in the DB\n",
      "M05914 has no moves in the DB\n",
      "M05928 has no moves in the DB\n",
      "M05940 has no moves in the DB\n",
      "M05948 has no moves in the DB\n",
      "M05952 has no moves in the DB\n",
      "M05957 has no moves in the DB\n",
      "M05961 has no moves in the DB\n",
      "M05970 has no moves in the DB\n",
      "M05977 has no moves in the DB\n",
      "M05985 has no moves in the DB\n",
      "M05986 has no moves in the DB\n",
      "M06008 has no moves in the DB\n",
      "M06009 has no moves in the DB\n",
      "M06010 has no moves in the DB\n",
      "M06013 has no moves in the DB\n",
      "M06037 has no moves in the DB\n",
      "M06038 has no moves in the DB\n",
      "M06039 has no moves in the DB\n",
      "M06040 has no moves in the DB\n",
      "M06041 has no moves in the DB\n",
      "M06045 has no moves in the DB\n",
      "M06046 has no moves in the DB\n",
      "M06047 has no moves in the DB\n",
      "M06054 has no moves in the DB\n",
      "M06056 has no moves in the DB\n",
      "M06080 has no moves in the DB\n",
      "M06090 has no moves in the DB\n",
      "M06137 has no moves in the DB\n",
      "M06153 has no moves in the DB\n",
      "M06154 has no moves in the DB\n",
      "M06167 has no moves in the DB\n",
      "M06169 has no moves in the DB\n",
      "M06172 has no moves in the DB\n",
      "M06174 has no moves in the DB\n",
      "M06182 has no moves in the DB\n",
      "M06185 has no moves in the DB\n",
      "M06214 has no moves in the DB\n",
      "M06235 has no moves in the DB\n",
      "M06269 has no moves in the DB\n",
      "M06280 has no moves in the DB\n",
      "M06345 has no moves in the DB\n",
      "M06410 has no moves in the DB\n",
      "M06460 has no moves in the DB\n",
      "M06489 has no moves in the DB\n",
      "M06585 has no moves in the DB\n",
      "M06601 has no moves in the DB\n",
      "M06612 has no moves in the DB\n",
      "M06644 has no moves in the DB\n",
      "M06651 has no moves in the DB\n",
      "M06659 has no moves in the DB\n",
      "M06663 has no moves in the DB\n",
      "M06666 has no moves in the DB\n",
      "M06667 has no moves in the DB\n",
      "M06683 has no moves in the DB\n",
      "M06685 has no moves in the DB\n",
      "M06723 has no moves in the DB\n",
      "M06739 has no moves in the DB\n",
      "M06748 has no moves in the DB\n",
      "M06757 has no moves in the DB\n",
      "M06770 has no moves in the DB\n",
      "M06783 has no moves in the DB\n",
      "M06793 has no moves in the DB\n",
      "M06794 has no moves in the DB\n",
      "M06812 has no moves in the DB\n",
      "M06813 has no moves in the DB\n",
      "M06818 has no moves in the DB\n",
      "M06847 has no moves in the DB\n",
      "M06857 has no moves in the DB\n",
      "M06858 has no moves in the DB\n",
      "M06859 has no moves in the DB\n",
      "M06861 has no moves in the DB\n",
      "M06863 has no moves in the DB\n",
      "M06873 has no moves in the DB\n",
      "M06874 has no moves in the DB\n",
      "M06892 has no moves in the DB\n",
      "M06898 has no moves in the DB\n",
      "M06906 has no moves in the DB\n",
      "M06933 has no moves in the DB\n",
      "M06948 has no moves in the DB\n",
      "M06964 has no moves in the DB\n",
      "M06979 has no moves in the DB\n",
      "M06986 has no moves in the DB\n",
      "M06987: rejecting 1 points, largest chi=6.237737900539793\n",
      "M07038 has no moves in the DB\n",
      "M07071 has no moves in the DB\n",
      "M07081 has no moves in the DB\n",
      "M07085 has no moves in the DB\n",
      "M07092 has no moves in the DB\n",
      "M07093 has no moves in the DB\n",
      "M07119 has no moves in the DB\n",
      "M07125 has no moves in the DB\n",
      "M07126 has no moves in the DB\n",
      "M07127 has no moves in the DB\n",
      "M07152 has no moves in the DB\n",
      "M07158 has no moves in the DB\n",
      "M07163 has no moves in the DB\n",
      "M07180 has no moves in the DB\n",
      "M07182 has no moves in the DB\n",
      "M07218 has no moves in the DB\n",
      "M07225 has no moves in the DB\n",
      "M07229 has no moves in the DB\n",
      "M07237 has no moves in the DB\n",
      "M07238 has no moves in the DB\n",
      "M07251 has no moves in the DB\n",
      "M07258 has no moves in the DB\n",
      "M07263 has no moves in the DB\n",
      "M07271 has no moves in the DB\n",
      "M07274 has no moves in the DB\n",
      "M07338 has no moves in the DB\n",
      "M07342 has no moves in the DB\n",
      "M07357 has no moves in the DB\n",
      "M07364 has no moves in the DB\n",
      "M07369 has no moves in the DB\n",
      "M07371 has no moves in the DB\n",
      "M07373 has no moves in the DB\n",
      "M07383 has no moves in the DB\n",
      "M07416 has no moves in the DB\n",
      "M07427 has no moves in the DB\n",
      "M07453 has no moves in the DB\n",
      "M07456 has no moves in the DB\n",
      "M07473 has no moves in the DB\n",
      "M07480 has no moves in the DB\n",
      "M07494 has no moves in the DB\n",
      "M07498 has no moves in the DB\n",
      "M07499 has no moves in the DB\n",
      "M07500 has no moves in the DB\n",
      "M07505 has no moves in the DB\n",
      "M07525 has no moves in the DB\n",
      "M07527 has no moves in the DB\n",
      "M07547 has no moves in the DB\n",
      "M07579 has no moves in the DB\n",
      "M07580 has no moves in the DB\n",
      "M07588 has no moves in the DB\n",
      "M07591 has no moves in the DB\n",
      "M07595 has no moves in the DB\n",
      "M07601 has no moves in the DB\n",
      "M07603 has no moves in the DB\n",
      "M07623 has no moves in the DB\n",
      "M07638 has no moves in the DB\n",
      "M07651 has no moves in the DB\n",
      "M07653 has no moves in the DB\n",
      "M07656 has no moves in the DB\n",
      "M07688 has no moves in the DB\n",
      "M07695 has no moves in the DB\n",
      "M07698 has no moves in the DB\n",
      "M07715 has no moves in the DB\n",
      "M07733 has no moves in the DB\n",
      "M07747 has no moves in the DB\n",
      "M07754: rejecting 1 points, largest chi=5.021206350875144\n",
      "M07763 has no moves in the DB\n",
      "M07843 has no moves in the DB\n",
      "M07862 has no moves in the DB\n",
      "M07863 has no moves in the DB\n",
      "M07873 has no moves in the DB\n",
      "M07874 has no moves in the DB\n",
      "M07888 has no moves in the DB\n",
      "M07912 has no moves in the DB\n",
      "M07924 has no moves in the DB\n",
      "M07934 has no moves in the DB\n",
      "M08015 has no moves in the DB\n",
      "M08062 has no moves in the DB\n",
      "M08083 has no moves in the DB\n",
      "M08141 has no moves in the DB\n",
      "M08184 has no moves in the DB\n",
      "M08201 has no moves in the DB\n",
      "M08217 has no moves in the DB\n",
      "M08221 has no moves in the DB\n",
      "M08230 has no moves in the DB\n",
      "M08249 has no moves in the DB\n",
      "M08299 has no moves in the DB\n",
      "M08311 has no moves in the DB\n",
      "M08333 has no moves in the DB\n",
      "M08334 has no moves in the DB\n",
      "M08337 has no moves in the DB\n",
      "M08347 has no moves in the DB\n",
      "M08474 has no moves in the DB\n"
     ]
    }
   ],
   "source": [
    "for idx, pos_id in enumerate(cals['pos_id']):\n",
    "    fit_arcs(pos_id, moves, cals, new_cals, idx)"
   ]
  },
  {
   "cell_type": "code",
   "execution_count": 16,
   "id": "07c0c304-eb0c-4aa0-afbc-7f8314430280",
   "metadata": {},
   "outputs": [],
   "source": [
    "sfirst = f'{firstexpos:5d}'\n",
    "try: astropy.io.ascii.write(present_cals,'present_cals'+sfirst+'.ecsv',format='ecsv')\n",
    "except: pass\n",
    "try: astropy.io.ascii.write(cals,'cals'+sfirst+'.ecsv',format='ecsv')\n",
    "except: pass\n",
    "try: moves.write('moves'+sfirst+'.fits.gz')\n",
    "except: pass\n",
    "try: astropy.io.ascii.write(new_cals,'new_cals'+sfirst+'.ecsv',format='ecsv')\n",
    "except: pass"
   ]
  },
  {
   "cell_type": "code",
   "execution_count": 17,
   "id": "5ac55247-a58d-4d5c-8052-bbe071126322",
   "metadata": {},
   "outputs": [],
   "source": [
    "def plot_fiber(fib, axsub=False, savefig=False):\n",
    "    if not axsub: \n",
    "        fig,ax = plt.subplots(1,gridspec_kw=dict(hspace=0.2),figsize=(4,4))\n",
    "        with np.printoptions(precision=3,suppress=True):\n",
    "            new_cals[(new_cals['pos_id']==fib)].pprint_all()    \n",
    "    else:\n",
    "        ax = axsub\n",
    "    f = moves[(moves['pos_id']==fib)]\n",
    "    phi_arc = np.where(list([re_phi_arc.search(x) for x in f['log_note'] ]),True,False)\n",
    "    theta_arc = np.where(list([re_theta_arc.search(x) for x in f['log_note'] ]),True,False)\n",
    "    #fit_circle(f['X_FP'][theta_arc], f['Y_FP'][theta_arc])\n",
    "    ax.scatter(f['obs_x'], f['obs_y'],s=8)\n",
    "    ax.scatter(f['obs_x'][theta_arc], f['obs_y'][theta_arc], s=20, color='m')\n",
    "    ax.scatter(f['obs_x'][phi_arc], f['obs_y'][phi_arc], s=20, color='r')\n",
    "    xm = np.median(f['obs_x'][theta_arc])\n",
    "    ym = np.median(f['obs_y'][theta_arc])\n",
    "    s = 7\n",
    "    if np.isfinite(xm) and np.isfinite(ym):\n",
    "        ax.set_xlim([xm-s,xm+s])\n",
    "        ax.set_ylim([ym-s,ym+s])\n",
    "    #plt.axis('equal')\n",
    "    ax.set_title(fib)\n",
    "    if not axsub: \n",
    "        if savefig: plt.savefig(f'FPcalib_{fib:s}.png')\n",
    "        plt.show()\n",
    "\n",
    "def plot_many_fibers(c):\n",
    "    # Give a selection of a cals table, with pos_id\n",
    "    tot = len(c)\n",
    "    print(\"Plotting\", tot,\"fibers\")\n",
    "    for n in range(0,tot,3):\n",
    "        fig,ax = plt.subplots(1,3,gridspec_kw=dict(hspace=0.2),figsize=(14,4))\n",
    "        plot_fiber(c[n]['pos_id'], axsub=ax[0])\n",
    "        if n+1<tot: plot_fiber(c[n+1]['pos_id'], axsub=ax[1])\n",
    "        if n+2<tot: plot_fiber(c[n+2]['pos_id'], axsub=ax[2])\n",
    "        plt.show()"
   ]
  },
  {
   "cell_type": "code",
   "execution_count": 40,
   "id": "105da78f-a9f2-480e-b5c2-2c3583951d0e",
   "metadata": {},
   "outputs": [
    {
     "name": "stdout",
     "output_type": "stream",
     "text": [
      "14 moves to start\n",
      "10 moves after prune_moves()\n",
      "Median: 362.2518555530163 77.4153235065971 1.5795929594377403\n",
      "9 used in dje_fit_circle()\n",
      "Mean:   362.2490310610687 77.41466810404447 1.579114105768035\n",
      "M05209: rejecting 1 points, largest chi=18.340259601769954\n",
      "Median: 362.2572089833913 77.41345485658948 1.5756239381331545\n",
      "9 used in dje_fit_circle()\n",
      "Mean:   362.2490310610687 77.41466810404447 1.579114105768035\n",
      "Angles: 59.31500328606734 14.631554036291458        y_flat      \n",
      "-------------------\n",
      "-45.103422549989496\n",
      "  14.90630012071037\n",
      " 134.28988576357713\n",
      " 104.52009866009783\n",
      "  45.20509537403051\n",
      "-14.884634440125195\n",
      "   -75.449874046501\n",
      "-105.64058960336853\n",
      "-135.71918914942225\n",
      "Radial deviations (microns): [ 0.77335355  3.390326    1.35822817  0.3890692  -6.89297256  4.72472258\n",
      " -4.09663575 -2.69566923  3.04957822] \n",
      "\n",
      "20 moves to start\n",
      "12 moves after prune_moves()\n",
      "Median: 364.86498520266014 78.904602954964 3.065162294241113\n",
      "11 used in dje_fit_circle()\n",
      "Mean:   364.86543464221353 78.90072682312683 3.068151798572853\n",
      "M05209: rejecting 2 points, largest chi=10.493315752299134\n",
      "Theta arc: [ 3.62249031e+02  7.74146681e+01  1.57911411e+00  3.60976458e-03\n",
      "  2.70009075e+02  1.54317371e+00  9.00000000e+00  4.00000000e+00\n",
      "  5.93150033e+01  1.46315540e+01 -9.99000000e+02]\n",
      "Phi arc:   [ 0.  0.  0.  0. -2.  0. 10.  8.  0.  0.  0.]\n",
      "Theta rad: 0.0\n",
      "Theta_arc_phi: 0.0\n",
      "pos_id length_r1 length_r2 offset_x offset_y  arc_t    arc_p  rms_t  rms_p  err.length_r2 err.offset_xy nfit_t nfit_p nprune_t nprune_p theta_arc_radius theta_arc_phi median_angstep_t median_angstep_p rms_angstep_t rms_angstep_p max_p \n",
      "------ --------- --------- -------- -------- -------- ------- ------ ------ ------------- ------------- ------ ------ -------- -------- ---------------- ------------- ---------------- ---------------- ------------- ------------- ------\n",
      "M05209    0.0000    0.0000 362.2490  77.4147 270.0091 -2.0000 0.0036 0.0000        9.9900        0.0022      9     10        4        8           1.5791        0.0000          59.3150           0.0000       14.6316        0.0000 0.0000\n"
     ]
    },
    {
     "data": {
      "image/png": "[encoded data removed]",
      "text/plain": [
       "<Figure size 288x288 with 1 Axes>"
      ]
     },
     "metadata": {
      "needs_background": "light"
     },
     "output_type": "display_data"
    }
   ],
   "source": [
    "pos = 'M05209'\n",
    "fit_arcs(pos, moves, cals, new_cals, 0, diag=True, tol=30)\n",
    "plot_fiber(pos)"
   ]
  },
  {
   "cell_type": "code",
   "execution_count": 19,
   "id": "bcc14b47-13ed-44e5-b693-5e124ea523d9",
   "metadata": {
    "tags": []
   },
   "outputs": [
    {
     "data": {
      "text/html": [
       "<i>Table length=20</i>\n",
       "<table id=\"table46913346862624-92963\" class=\"table-striped table-bordered table-condensed\">\n",
       "<thead><tr><th>idx</th><th>pos_id</th><th>length_r1</th><th>length_r2</th><th>offset_x</th><th>offset_y</th><th>arc_t</th><th>arc_p</th><th>rms_t</th><th>rms_p</th><th>err.length_r2</th><th>err.offset_xy</th><th>nfit_t</th><th>nfit_p</th><th>nprune_t</th><th>nprune_p</th><th>theta_arc_radius</th><th>theta_arc_phi</th><th>median_angstep_t</th><th>median_angstep_p</th><th>rms_angstep_t</th><th>rms_angstep_p</th><th>max_p</th></tr></thead>\n",
       "<tr><td>0</td><td>M00282</td><td>3.1009</td><td>3.0717</td><td>226.0989</td><td>23.3064</td><td>299.9881</td><td>109.9557</td><td>0.0018</td><td>0.0019</td><td>0.0023</td><td>0.0009</td><td>11</td><td>17</td><td>3</td><td>3</td><td>1.5845</td><td>150.2561</td><td>30.1355</td><td>10.0621</td><td>14.9322</td><td>3.9040</td><td>179.5958</td></tr>\n",
       "<tr><td>1</td><td>M00283</td><td>0.0000</td><td>0.0000</td><td>0.0000</td><td>0.0000</td><td>-9.0000</td><td>-9.0000</td><td>0.0000</td><td>0.0000</td><td>0.0000</td><td>0.0000</td><td>0</td><td>0</td><td>0</td><td>0</td><td>0.0000</td><td>0.0000</td><td>0.0000</td><td>0.0000</td><td>0.0000</td><td>0.0000</td><td>0.0000</td></tr>\n",
       "<tr><td>2</td><td>M00284</td><td>3.0448</td><td>3.0665</td><td>252.1800</td><td>32.3212</td><td>299.4526</td><td>109.8320</td><td>0.0031</td><td>0.0025</td><td>0.0033</td><td>0.0016</td><td>11</td><td>12</td><td>3</td><td>8</td><td>1.5788</td><td>150.0596</td><td>30.2919</td><td>9.9754</td><td>14.7317</td><td>17.2819</td><td>180.3301</td></tr>\n",
       "<tr><td>3</td><td>M00296</td><td>3.0953</td><td>3.0820</td><td>194.8486</td><td>23.2853</td><td>299.9681</td><td>109.9102</td><td>0.0018</td><td>0.0022</td><td>0.0027</td><td>0.0009</td><td>11</td><td>14</td><td>3</td><td>6</td><td>1.6093</td><td>149.8001</td><td>30.2056</td><td>9.9910</td><td>14.8109</td><td>16.0322</td><td>178.9353</td></tr>\n",
       "<tr><td>4</td><td>M00325</td><td>3.1836</td><td>3.0603</td><td>121.8945</td><td>23.3109</td><td>300.3828</td><td>109.0008</td><td>0.0019</td><td>0.0015</td><td>0.0021</td><td>0.0010</td><td>11</td><td>12</td><td>3</td><td>8</td><td>1.6167</td><td>150.0706</td><td>30.2403</td><td>9.9537</td><td>14.9139</td><td>17.2482</td><td>179.8223</td></tr>\n",
       "<tr><td>5</td><td>M00411</td><td>3.1482</td><td>3.0446</td><td>347.1603</td><td>194.9594</td><td>299.7641</td><td>109.7974</td><td>0.0022</td><td>0.0017</td><td>0.0019</td><td>0.0011</td><td>11</td><td>19</td><td>3</td><td>1</td><td>1.5758</td><td>150.5783</td><td>30.1940</td><td>9.9954</td><td>14.8539</td><td>2.2154</td><td>179.8426</td></tr>\n",
       "<tr><td>6</td><td>M00436</td><td>0.0000</td><td>0.0000</td><td>0.0000</td><td>0.0000</td><td>-9.0000</td><td>-9.0000</td><td>0.0000</td><td>0.0000</td><td>0.0000</td><td>0.0000</td><td>0</td><td>0</td><td>0</td><td>0</td><td>0.0000</td><td>0.0000</td><td>0.0000</td><td>0.0000</td><td>0.0000</td><td>0.0000</td><td>0.0000</td></tr>\n",
       "<tr><td>7</td><td>M00469</td><td>0.0000</td><td>0.0000</td><td>0.0000</td><td>0.0000</td><td>-9.0000</td><td>-9.0000</td><td>0.0000</td><td>0.0000</td><td>0.0000</td><td>0.0000</td><td>0</td><td>0</td><td>0</td><td>0</td><td>0.0000</td><td>0.0000</td><td>0.0000</td><td>0.0000</td><td>0.0000</td><td>0.0000</td><td>0.0000</td></tr>\n",
       "<tr><td>8</td><td>M00470</td><td>3.0251</td><td>3.0612</td><td>352.3817</td><td>185.9022</td><td>299.7880</td><td>109.2862</td><td>0.0020</td><td>0.0021</td><td>0.0028</td><td>0.0010</td><td>11</td><td>12</td><td>3</td><td>8</td><td>1.5477</td><td>150.5453</td><td>30.1530</td><td>9.9439</td><td>14.8890</td><td>17.1089</td><td>180.7179</td></tr>\n",
       "<tr><td>9</td><td>M00636</td><td>2.9893</td><td>3.0514</td><td>299.1645</td><td>41.3363</td><td>299.7944</td><td>109.6920</td><td>0.0022</td><td>0.0031</td><td>0.0041</td><td>0.0011</td><td>11</td><td>12</td><td>3</td><td>8</td><td>1.5616</td><td>150.0590</td><td>30.2854</td><td>10.0040</td><td>14.8038</td><td>17.1245</td><td>179.9072</td></tr>\n",
       "<tr><td>10</td><td>M00660</td><td>2.9376</td><td>3.0622</td><td>394.2641</td><td>95.5513</td><td>299.9261</td><td>109.6403</td><td>0.0016</td><td>0.0016</td><td>0.0022</td><td>0.0008</td><td>11</td><td>12</td><td>3</td><td>8</td><td>1.5688</td><td>149.7757</td><td>30.2462</td><td>9.9821</td><td>14.8324</td><td>17.1643</td><td>179.1815</td></tr>\n",
       "<tr><td>11</td><td>M00676</td><td>2.9716</td><td>3.0875</td><td>184.3883</td><td>77.7500</td><td>300.6051</td><td>110.2820</td><td>0.0014</td><td>0.0014</td><td>0.0018</td><td>0.0007</td><td>11</td><td>12</td><td>3</td><td>8</td><td>1.5806</td><td>149.8353</td><td>30.2268</td><td>10.0556</td><td>14.9230</td><td>17.2751</td><td>179.8772</td></tr>\n",
       "<tr><td>12</td><td>M00677</td><td>3.0143</td><td>3.0510</td><td>320.2512</td><td>131.5976</td><td>300.3418</td><td>110.0535</td><td>0.0021</td><td>0.0012</td><td>0.0016</td><td>0.0011</td><td>11</td><td>12</td><td>3</td><td>8</td><td>1.5401</td><td>150.5891</td><td>30.0721</td><td>10.0399</td><td>14.9660</td><td>17.2198</td><td>181.0897</td></tr>\n",
       "<tr><td>13</td><td>M00703</td><td>2.8362</td><td>3.0768</td><td>85.3871</td><td>50.4355</td><td>255.8340</td><td>110.5447</td><td>0.0028</td><td>0.0015</td><td>0.0015</td><td>0.0015</td><td>12</td><td>19</td><td>2</td><td>1</td><td>2.8994</td><td>121.4421</td><td>29.7263</td><td>10.0261</td><td>13.2536</td><td>2.9453</td><td>173.5207</td></tr>\n",
       "<tr><td>14</td><td>M00795</td><td>3.0594</td><td>3.0609</td><td>304.4567</td><td>122.5877</td><td>300.5018</td><td>110.2085</td><td>0.0027</td><td>0.0027</td><td>0.0036</td><td>0.0014</td><td>11</td><td>12</td><td>3</td><td>8</td><td>1.5897</td><td>149.8909</td><td>30.0548</td><td>10.0659</td><td>14.9669</td><td>17.2628</td><td>180.0430</td></tr>\n",
       "<tr><td>15</td><td>M00825</td><td>3.0362</td><td>3.0573</td><td>38.5956</td><td>5.2735</td><td>298.6763</td><td>111.0623</td><td>0.0019</td><td>0.0009</td><td>0.0010</td><td>0.0010</td><td>11</td><td>17</td><td>3</td><td>3</td><td>2.5319</td><td>130.8986</td><td>30.0838</td><td>10.0324</td><td>14.8604</td><td>2.5531</td><td>182.2397</td></tr>\n",
       "<tr><td>16</td><td>M00934</td><td>3.0621</td><td>3.0860</td><td>262.5728</td><td>50.3700</td><td>300.3562</td><td>109.7620</td><td>0.0016</td><td>0.0015</td><td>0.0020</td><td>0.0008</td><td>11</td><td>12</td><td>3</td><td>8</td><td>1.5941</td><td>149.9474</td><td>30.2978</td><td>10.0216</td><td>14.7831</td><td>17.2137</td><td>180.0445</td></tr>\n",
       "<tr><td>17</td><td>M00936</td><td>2.9906</td><td>3.0392</td><td>351.8748</td><td>113.5356</td><td>300.1275</td><td>109.9909</td><td>0.0015</td><td>0.0011</td><td>0.0015</td><td>0.0008</td><td>11</td><td>12</td><td>3</td><td>8</td><td>1.5588</td><td>150.0499</td><td>30.2589</td><td>10.0236</td><td>14.7599</td><td>17.1830</td><td>180.1408</td></tr>\n",
       "<tr><td>18</td><td>M00946</td><td>3.0134</td><td>3.0305</td><td>320.3261</td><td>149.7484</td><td>300.5272</td><td>109.5017</td><td>0.0017</td><td>0.0021</td><td>0.0028</td><td>0.0008</td><td>11</td><td>12</td><td>3</td><td>8</td><td>1.5440</td><td>150.3990</td><td>30.0730</td><td>9.9740</td><td>14.9390</td><td>17.1234</td><td>180.0045</td></tr>\n",
       "<tr><td>19</td><td>M00956</td><td>3.0327</td><td>3.0539</td><td>163.5817</td><td>77.7674</td><td>299.7267</td><td>110.0329</td><td>0.0009</td><td>0.0010</td><td>0.0014</td><td>0.0004</td><td>11</td><td>12</td><td>3</td><td>8</td><td>1.5795</td><td>149.9210</td><td>30.0067</td><td>10.0553</td><td>14.9196</td><td>17.1887</td><td>179.9005</td></tr>\n",
       "</table><style>table.dataTable {clear: both; width: auto !important; margin: 0 !important;}\n",
       ".dataTables_info, .dataTables_length, .dataTables_filter, .dataTables_paginate{\n",
       "display: inline-block; margin-right: 1em; }\n",
       ".paginate_button { margin-right: 5px; }\n",
       "</style>\n",
       "<script>\n",
       "\n",
       "var astropy_sort_num = function(a, b) {\n",
       "    var a_num = parseFloat(a);\n",
       "    var b_num = parseFloat(b);\n",
       "\n",
       "    if (isNaN(a_num) && isNaN(b_num))\n",
       "        return ((a < b) ? -1 : ((a > b) ? 1 : 0));\n",
       "    else if (!isNaN(a_num) && !isNaN(b_num))\n",
       "        return ((a_num < b_num) ? -1 : ((a_num > b_num) ? 1 : 0));\n",
       "    else\n",
       "        return isNaN(a_num) ? -1 : 1;\n",
       "}\n",
       "\n",
       "require.config({paths: {\n",
       "    datatables: 'https://cdn.datatables.net/1.10.12/js/jquery.dataTables.min'\n",
       "}});\n",
       "require([\"datatables\"], function(){\n",
       "    console.log(\"$('#table46913346862624-92963').dataTable()\");\n",
       "    \n",
       "jQuery.extend( jQuery.fn.dataTableExt.oSort, {\n",
       "    \"optionalnum-asc\": astropy_sort_num,\n",
       "    \"optionalnum-desc\": function (a,b) { return -astropy_sort_num(a, b); }\n",
       "});\n",
       "\n",
       "    $('#table46913346862624-92963').dataTable({\n",
       "        order: [],\n",
       "        pageLength: 50,\n",
       "        lengthMenu: [[10, 25, 50, 100, 500, 1000, -1], [10, 25, 50, 100, 500, 1000, 'All']],\n",
       "        pagingType: \"full_numbers\",\n",
       "        columnDefs: [{targets: [0, 2, 3, 4, 5, 6, 7, 8, 9, 10, 11, 12, 13, 14, 15, 16, 17, 18, 19, 20, 21, 22], type: \"optionalnum\"}]\n",
       "    });\n",
       "});\n",
       "</script>\n"
      ],
      "text/plain": [
       "<IPython.core.display.HTML object>"
      ]
     },
     "execution_count": 19,
     "metadata": {},
     "output_type": "execute_result"
    }
   ],
   "source": [
    "new_cals[:20].show_in_notebook()"
   ]
  },
  {
   "cell_type": "code",
   "execution_count": 20,
   "id": "ad11a148-a6f0-4aca-bdab-4f79228dcb07",
   "metadata": {},
   "outputs": [
    {
     "name": "stdout",
     "output_type": "stream",
     "text": [
      "5020\n"
     ]
    }
   ],
   "source": [
    "arc = new_cals['arc_t']\n",
    "print(len(arc))"
   ]
  },
  {
   "cell_type": "code",
   "execution_count": 21,
   "id": "445a3c02-b0c9-4248-966c-4c64168774b9",
   "metadata": {
    "tags": []
   },
   "outputs": [
    {
     "name": "stdout",
     "output_type": "stream",
     "text": [
      "4240 were tried\n",
      "  12 didn't move\n",
      "   0 rejected too many points\n",
      "   0 failed to fit an arc\n",
      "   0 have too short an arc\n"
     ]
    }
   ],
   "source": [
    "tried = (cals['device_classified_nonfunctional']==False)\n",
    "print(f\"{np.sum(tried):4d} were tried\")\n",
    "print(f\"{np.sum(tried&(arc<-7.5)):4d} didn't move\")\n",
    "print(f\"{np.sum(tried&(arc<-4.5)&(arc>-7.5)):4d} rejected too many points\")\n",
    "print(f\"{np.sum(tried&(arc<-0.5)&(arc>-4.5)):4d} failed to fit an arc\")\n",
    "print(f\"{np.sum(tried&(arc>-0.5)&(arc<60)):4d} have too short an arc\")"
   ]
  },
  {
   "cell_type": "code",
   "execution_count": 22,
   "id": "59452750-38c2-4fa1-8085-ecb7f7835b31",
   "metadata": {},
   "outputs": [],
   "source": [
    "#new_cals[tried&(arc<-7.5)]"
   ]
  },
  {
   "cell_type": "code",
   "execution_count": 23,
   "id": "3e73ad6c-9e40-46e2-9395-71345db1e3c6",
   "metadata": {},
   "outputs": [
    {
     "name": "stdout",
     "output_type": "stream",
     "text": [
      "M00283 M03125 M03360 M03506 M03827 M04056 M05036 M05143 M05310 M05473 M06585 M06906\n"
     ]
    },
    {
     "data": {
      "text/html": [
       "<i>Table length=12</i>\n",
       "<table id=\"table46913346769200\" class=\"table-striped table-bordered table-condensed\">\n",
       "<thead><tr><th>pos_id</th><th>length_r1</th><th>length_r2</th><th>offset_x</th><th>offset_y</th><th>arc_t</th><th>arc_p</th><th>rms_t</th><th>rms_p</th><th>err.length_r2</th><th>err.offset_xy</th><th>nfit_t</th><th>nfit_p</th><th>nprune_t</th><th>nprune_p</th><th>theta_arc_radius</th><th>theta_arc_phi</th><th>median_angstep_t</th><th>median_angstep_p</th><th>rms_angstep_t</th><th>rms_angstep_p</th><th>max_p</th></tr></thead>\n",
       "<thead><tr><th>str6</th><th>float32</th><th>float32</th><th>float32</th><th>float32</th><th>float32</th><th>float32</th><th>float32</th><th>float32</th><th>float32</th><th>float32</th><th>float32</th><th>float32</th><th>float32</th><th>float32</th><th>float32</th><th>float32</th><th>float32</th><th>float32</th><th>float32</th><th>float32</th><th>float32</th></tr></thead>\n",
       "<tr><td>M00283</td><td>0.0000</td><td>0.0000</td><td>0.0000</td><td>0.0000</td><td>-9.0000</td><td>-9.0000</td><td>0.0000</td><td>0.0000</td><td>0.0000</td><td>0.0000</td><td>0</td><td>0</td><td>0</td><td>0</td><td>0.0000</td><td>0.0000</td><td>0.0000</td><td>0.0000</td><td>0.0000</td><td>0.0000</td><td>0.0000</td></tr>\n",
       "<tr><td>M03125</td><td>0.0000</td><td>0.0000</td><td>0.0000</td><td>0.0000</td><td>-9.0000</td><td>-9.0000</td><td>0.0000</td><td>0.0000</td><td>0.0000</td><td>0.0000</td><td>0</td><td>0</td><td>0</td><td>0</td><td>0.0000</td><td>0.0000</td><td>0.0000</td><td>0.0000</td><td>0.0000</td><td>0.0000</td><td>0.0000</td></tr>\n",
       "<tr><td>M03360</td><td>0.0000</td><td>0.0000</td><td>0.0000</td><td>0.0000</td><td>-9.0000</td><td>-9.0000</td><td>0.0000</td><td>0.0000</td><td>0.0000</td><td>0.0000</td><td>0</td><td>0</td><td>0</td><td>0</td><td>0.0000</td><td>0.0000</td><td>0.0000</td><td>0.0000</td><td>0.0000</td><td>0.0000</td><td>0.0000</td></tr>\n",
       "<tr><td>M03506</td><td>0.0000</td><td>0.0000</td><td>0.0000</td><td>0.0000</td><td>-9.0000</td><td>-9.0000</td><td>0.0000</td><td>0.0000</td><td>0.0000</td><td>0.0000</td><td>0</td><td>0</td><td>0</td><td>0</td><td>0.0000</td><td>0.0000</td><td>0.0000</td><td>0.0000</td><td>0.0000</td><td>0.0000</td><td>0.0000</td></tr>\n",
       "<tr><td>M03827</td><td>0.0000</td><td>0.0000</td><td>0.0000</td><td>0.0000</td><td>-9.0000</td><td>-9.0000</td><td>0.0000</td><td>0.0000</td><td>0.0000</td><td>0.0000</td><td>0</td><td>0</td><td>0</td><td>0</td><td>0.0000</td><td>0.0000</td><td>0.0000</td><td>0.0000</td><td>0.0000</td><td>0.0000</td><td>0.0000</td></tr>\n",
       "<tr><td>M04056</td><td>0.0000</td><td>0.0000</td><td>0.0000</td><td>0.0000</td><td>-9.0000</td><td>-9.0000</td><td>0.0000</td><td>0.0000</td><td>0.0000</td><td>0.0000</td><td>0</td><td>0</td><td>0</td><td>0</td><td>0.0000</td><td>0.0000</td><td>0.0000</td><td>0.0000</td><td>0.0000</td><td>0.0000</td><td>0.0000</td></tr>\n",
       "<tr><td>M05036</td><td>0.0000</td><td>0.0000</td><td>0.0000</td><td>0.0000</td><td>-8.0000</td><td>-9.0000</td><td>0.0000</td><td>0.0000</td><td>9.9900</td><td>0.0000</td><td>1</td><td>0</td><td>0</td><td>0</td><td>0.0000</td><td>0.0000</td><td>0.0000</td><td>0.0000</td><td>0.0000</td><td>0.0000</td><td>0.0000</td></tr>\n",
       "<tr><td>M05143</td><td>0.0000</td><td>0.0000</td><td>0.0000</td><td>0.0000</td><td>-9.0000</td><td>-9.0000</td><td>0.0000</td><td>0.0000</td><td>0.0000</td><td>0.0000</td><td>0</td><td>0</td><td>0</td><td>0</td><td>0.0000</td><td>0.0000</td><td>0.0000</td><td>0.0000</td><td>0.0000</td><td>0.0000</td><td>0.0000</td></tr>\n",
       "<tr><td>M05310</td><td>0.0000</td><td>0.0000</td><td>0.0000</td><td>0.0000</td><td>-8.0000</td><td>-9.0000</td><td>0.0000</td><td>0.0000</td><td>9.9900</td><td>0.0000</td><td>1</td><td>0</td><td>0</td><td>0</td><td>0.0000</td><td>0.0000</td><td>0.0000</td><td>0.0000</td><td>0.0000</td><td>0.0000</td><td>0.0000</td></tr>\n",
       "<tr><td>M05473</td><td>0.0000</td><td>0.0000</td><td>0.0000</td><td>0.0000</td><td>-9.0000</td><td>-9.0000</td><td>0.0000</td><td>0.0000</td><td>0.0000</td><td>0.0000</td><td>0</td><td>0</td><td>0</td><td>0</td><td>0.0000</td><td>0.0000</td><td>0.0000</td><td>0.0000</td><td>0.0000</td><td>0.0000</td><td>0.0000</td></tr>\n",
       "<tr><td>M06585</td><td>0.0000</td><td>0.0000</td><td>0.0000</td><td>0.0000</td><td>-9.0000</td><td>-9.0000</td><td>0.0000</td><td>0.0000</td><td>0.0000</td><td>0.0000</td><td>0</td><td>0</td><td>0</td><td>0</td><td>0.0000</td><td>0.0000</td><td>0.0000</td><td>0.0000</td><td>0.0000</td><td>0.0000</td><td>0.0000</td></tr>\n",
       "<tr><td>M06906</td><td>0.0000</td><td>0.0000</td><td>0.0000</td><td>0.0000</td><td>-9.0000</td><td>-9.0000</td><td>0.0000</td><td>0.0000</td><td>0.0000</td><td>0.0000</td><td>0</td><td>0</td><td>0</td><td>0</td><td>0.0000</td><td>0.0000</td><td>0.0000</td><td>0.0000</td><td>0.0000</td><td>0.0000</td><td>0.0000</td></tr>\n",
       "</table>"
      ],
      "text/plain": [
       "<Table length=12>\n",
       "pos_id length_r1 length_r2 offset_x ... rms_angstep_t rms_angstep_p  max_p \n",
       " str6   float32   float32  float32  ...    float32       float32    float32\n",
       "------ --------- --------- -------- ... ------------- ------------- -------\n",
       "M00283    0.0000    0.0000   0.0000 ...        0.0000        0.0000  0.0000\n",
       "M03125    0.0000    0.0000   0.0000 ...        0.0000        0.0000  0.0000\n",
       "M03360    0.0000    0.0000   0.0000 ...        0.0000        0.0000  0.0000\n",
       "M03506    0.0000    0.0000   0.0000 ...        0.0000        0.0000  0.0000\n",
       "M03827    0.0000    0.0000   0.0000 ...        0.0000        0.0000  0.0000\n",
       "M04056    0.0000    0.0000   0.0000 ...        0.0000        0.0000  0.0000\n",
       "M05036    0.0000    0.0000   0.0000 ...        0.0000        0.0000  0.0000\n",
       "M05143    0.0000    0.0000   0.0000 ...        0.0000        0.0000  0.0000\n",
       "M05310    0.0000    0.0000   0.0000 ...        0.0000        0.0000  0.0000\n",
       "M05473    0.0000    0.0000   0.0000 ...        0.0000        0.0000  0.0000\n",
       "M06585    0.0000    0.0000   0.0000 ...        0.0000        0.0000  0.0000\n",
       "M06906    0.0000    0.0000   0.0000 ...        0.0000        0.0000  0.0000"
      ]
     },
     "execution_count": 23,
     "metadata": {},
     "output_type": "execute_result"
    }
   ],
   "source": [
    "sel = tried&(new_cals['arc_t']<-7.5)&(new_cals['arc_p']<-7.5)\n",
    "print(\" \".join(new_cals['pos_id'][sel]))\n",
    "new_cals[sel]"
   ]
  },
  {
   "cell_type": "code",
   "execution_count": 24,
   "id": "93f94805-9bb5-4d2b-9f2c-7fa160cbfbb8",
   "metadata": {},
   "outputs": [
    {
     "data": {
      "text/html": [
       "<i>Table length=0</i>\n",
       "<table id=\"table46913346900272\" class=\"table-striped table-bordered table-condensed\">\n",
       "<thead><tr><th>pos_id</th><th>length_r1</th><th>length_r2</th><th>offset_x</th><th>offset_y</th><th>arc_t</th><th>arc_p</th><th>rms_t</th><th>rms_p</th><th>err.length_r2</th><th>err.offset_xy</th><th>nfit_t</th><th>nfit_p</th><th>nprune_t</th><th>nprune_p</th><th>theta_arc_radius</th><th>theta_arc_phi</th><th>median_angstep_t</th><th>median_angstep_p</th><th>rms_angstep_t</th><th>rms_angstep_p</th><th>max_p</th></tr></thead>\n",
       "<thead><tr><th>str6</th><th>float32</th><th>float32</th><th>float32</th><th>float32</th><th>float32</th><th>float32</th><th>float32</th><th>float32</th><th>float32</th><th>float32</th><th>float32</th><th>float32</th><th>float32</th><th>float32</th><th>float32</th><th>float32</th><th>float32</th><th>float32</th><th>float32</th><th>float32</th><th>float32</th></tr></thead>\n",
       "</table>"
      ],
      "text/plain": [
       "<Table length=0>\n",
       "pos_id length_r1 length_r2 offset_x ... rms_angstep_t rms_angstep_p  max_p \n",
       " str6   float32   float32  float32  ...    float32       float32    float32\n",
       "------ --------- --------- -------- ... ------------- ------------- -------"
      ]
     },
     "execution_count": 24,
     "metadata": {},
     "output_type": "execute_result"
    }
   ],
   "source": [
    "new_cals[tried&(new_cals['arc_t']>-7.5)&(new_cals['arc_p']<-7.5)]"
   ]
  },
  {
   "cell_type": "code",
   "execution_count": 25,
   "id": "1b144bf2-3a65-436c-be53-fcbc8554a485",
   "metadata": {},
   "outputs": [
    {
     "data": {
      "text/html": [
       "<i>Table length=0</i>\n",
       "<table id=\"table46913346861904\" class=\"table-striped table-bordered table-condensed\">\n",
       "<thead><tr><th>pos_id</th><th>length_r1</th><th>length_r2</th><th>offset_x</th><th>offset_y</th><th>arc_t</th><th>arc_p</th><th>rms_t</th><th>rms_p</th><th>err.length_r2</th><th>err.offset_xy</th><th>nfit_t</th><th>nfit_p</th><th>nprune_t</th><th>nprune_p</th><th>theta_arc_radius</th><th>theta_arc_phi</th><th>median_angstep_t</th><th>median_angstep_p</th><th>rms_angstep_t</th><th>rms_angstep_p</th><th>max_p</th></tr></thead>\n",
       "<thead><tr><th>str6</th><th>float32</th><th>float32</th><th>float32</th><th>float32</th><th>float32</th><th>float32</th><th>float32</th><th>float32</th><th>float32</th><th>float32</th><th>float32</th><th>float32</th><th>float32</th><th>float32</th><th>float32</th><th>float32</th><th>float32</th><th>float32</th><th>float32</th><th>float32</th><th>float32</th></tr></thead>\n",
       "</table>"
      ],
      "text/plain": [
       "<Table length=0>\n",
       "pos_id length_r1 length_r2 offset_x ... rms_angstep_t rms_angstep_p  max_p \n",
       " str6   float32   float32  float32  ...    float32       float32    float32\n",
       "------ --------- --------- -------- ... ------------- ------------- -------"
      ]
     },
     "execution_count": 25,
     "metadata": {},
     "output_type": "execute_result"
    }
   ],
   "source": [
    "new_cals[tried&(new_cals['arc_t']<-7.5)&(new_cals['arc_p']>-7.5)]"
   ]
  },
  {
   "cell_type": "code",
   "execution_count": 26,
   "id": "805518bb-4bfb-4e17-9738-b015a5223ee5",
   "metadata": {},
   "outputs": [
    {
     "data": {
      "text/html": [
       "<i>Table length=5</i>\n",
       "<table id=\"table46913347335312\" class=\"table-striped table-bordered table-condensed\">\n",
       "<thead><tr><th>pos_id</th><th>length_r1</th><th>length_r2</th><th>offset_x</th><th>offset_y</th><th>arc_t</th><th>arc_p</th><th>rms_t</th><th>rms_p</th><th>err.length_r2</th><th>err.offset_xy</th><th>nfit_t</th><th>nfit_p</th><th>nprune_t</th><th>nprune_p</th><th>theta_arc_radius</th><th>theta_arc_phi</th><th>median_angstep_t</th><th>median_angstep_p</th><th>rms_angstep_t</th><th>rms_angstep_p</th><th>max_p</th></tr></thead>\n",
       "<thead><tr><th>str6</th><th>float32</th><th>float32</th><th>float32</th><th>float32</th><th>float32</th><th>float32</th><th>float32</th><th>float32</th><th>float32</th><th>float32</th><th>float32</th><th>float32</th><th>float32</th><th>float32</th><th>float32</th><th>float32</th><th>float32</th><th>float32</th><th>float32</th><th>float32</th><th>float32</th></tr></thead>\n",
       "<tr><td>M02281</td><td>3.0380</td><td>3.0789</td><td>132.3607</td><td>5.2356</td><td>298.9993</td><td>69.9035</td><td>0.0045</td><td>0.0012</td><td>0.0044</td><td>0.0021</td><td>12</td><td>10</td><td>2</td><td>10</td><td>3.1174</td><td>118.7254</td><td>30.1846</td><td>10.0104</td><td>13.0141</td><td>19.3382</td><td>170.8831</td></tr>\n",
       "<tr><td>M02907</td><td>3.0648</td><td>3.0433</td><td>116.7222</td><td>32.3187</td><td>300.3365</td><td>70.1545</td><td>0.0022</td><td>0.0015</td><td>0.0051</td><td>0.0011</td><td>11</td><td>14</td><td>3</td><td>6</td><td>1.6054</td><td>149.5272</td><td>30.1249</td><td>10.0092</td><td>14.8435</td><td>0.1511</td><td>180.0498</td></tr>\n",
       "<tr><td>M03929</td><td>2.7997</td><td>3.1196</td><td>362.4241</td><td>113.5468</td><td>299.9535</td><td>34.8567</td><td>0.0032</td><td>0.0015</td><td>0.0185</td><td>0.0016</td><td>11</td><td>17</td><td>3</td><td>3</td><td>1.6664</td><td>147.8738</td><td>30.2747</td><td>3.7620</td><td>14.7582</td><td>2.1080</td><td>159.9587</td></tr>\n",
       "<tr><td>M05209</td><td>0.0000</td><td>0.0000</td><td>362.2490</td><td>77.4147</td><td>270.0091</td><td>-2.0000</td><td>0.0036</td><td>0.0000</td><td>9.9900</td><td>0.0022</td><td>9</td><td>10</td><td>4</td><td>8</td><td>1.5791</td><td>0.0000</td><td>59.3150</td><td>0.0000</td><td>14.6316</td><td>0.0000</td><td>0.0000</td></tr>\n",
       "<tr><td>M06855</td><td>3.0141</td><td>3.0806</td><td>122.0162</td><td>5.2325</td><td>299.7376</td><td>69.8016</td><td>0.0015</td><td>0.0013</td><td>0.0043</td><td>0.0008</td><td>11</td><td>14</td><td>3</td><td>3</td><td>1.5718</td><td>150.1354</td><td>30.1079</td><td>9.9692</td><td>14.7552</td><td>0.1806</td><td>180.1080</td></tr>\n",
       "</table>"
      ],
      "text/plain": [
       "<Table length=5>\n",
       "pos_id length_r1 length_r2 offset_x ... rms_angstep_t rms_angstep_p  max_p  \n",
       " str6   float32   float32  float32  ...    float32       float32    float32 \n",
       "------ --------- --------- -------- ... ------------- ------------- --------\n",
       "M02281    3.0380    3.0789 132.3607 ...       13.0141       19.3382 170.8831\n",
       "M02907    3.0648    3.0433 116.7222 ...       14.8435        0.1511 180.0498\n",
       "M03929    2.7997    3.1196 362.4241 ...       14.7582        2.1080 159.9587\n",
       "M05209    0.0000    0.0000 362.2490 ...       14.6316        0.0000   0.0000\n",
       "M06855    3.0141    3.0806 122.0162 ...       14.7552        0.1806 180.1080"
      ]
     },
     "execution_count": 26,
     "metadata": {},
     "output_type": "execute_result"
    }
   ],
   "source": [
    "new_cals[tried&(new_cals['arc_p']>-7.5)&(new_cals['arc_p']<75)]"
   ]
  },
  {
   "cell_type": "code",
   "execution_count": 37,
   "id": "40bdc597-eaeb-40ca-a2ff-6a1ac2d0fb16",
   "metadata": {},
   "outputs": [
    {
     "data": {
      "text/html": [
       "<i>Table length=4</i>\n",
       "<table id=\"table46913351669984\" class=\"table-striped table-bordered table-condensed\">\n",
       "<thead><tr><th>pos_id</th><th>length_r1</th><th>length_r2</th><th>offset_x</th><th>offset_y</th><th>arc_t</th><th>arc_p</th><th>rms_t</th><th>rms_p</th><th>err.length_r2</th><th>err.offset_xy</th><th>nfit_t</th><th>nfit_p</th><th>nprune_t</th><th>nprune_p</th><th>theta_arc_radius</th><th>theta_arc_phi</th><th>median_angstep_t</th><th>median_angstep_p</th><th>rms_angstep_t</th><th>rms_angstep_p</th><th>max_p</th></tr></thead>\n",
       "<thead><tr><th>str6</th><th>float32</th><th>float32</th><th>float32</th><th>float32</th><th>float32</th><th>float32</th><th>float32</th><th>float32</th><th>float32</th><th>float32</th><th>float32</th><th>float32</th><th>float32</th><th>float32</th><th>float32</th><th>float32</th><th>float32</th><th>float32</th><th>float32</th><th>float32</th><th>float32</th></tr></thead>\n",
       "<tr><td>M00703</td><td>2.8362</td><td>3.0768</td><td>85.3871</td><td>50.4355</td><td>255.8340</td><td>110.5447</td><td>0.0028</td><td>0.0015</td><td>0.0015</td><td>0.0015</td><td>12</td><td>19</td><td>2</td><td>1</td><td>2.8994</td><td>121.4421</td><td>29.7263</td><td>10.0261</td><td>13.2536</td><td>2.9453</td><td>173.5207</td></tr>\n",
       "<tr><td>M01377</td><td>3.1763</td><td>3.0322</td><td>142.7321</td><td>5.2339</td><td>149.6438</td><td>110.5617</td><td>0.0037</td><td>0.0015</td><td>0.0020</td><td>0.0055</td><td>6</td><td>12</td><td>2</td><td>8</td><td>4.2933</td><td>92.5337</td><td>59.7903</td><td>10.0608</td><td>0.2285</td><td>17.3546</td><td>146.4222</td></tr>\n",
       "<tr><td>M02055</td><td>2.9605</td><td>3.0878</td><td>173.9227</td><td>113.7859</td><td>185.9264</td><td>110.6459</td><td>0.0024</td><td>0.0014</td><td>0.0017</td><td>0.0016</td><td>14</td><td>14</td><td>0</td><td>6</td><td>2.6875</td><td>127.2883</td><td>24.7659</td><td>10.0260</td><td>11.1774</td><td>7.3305</td><td>180.4478</td></tr>\n",
       "<tr><td>M06714</td><td>3.0465</td><td>3.0446</td><td>262.6281</td><td>122.6976</td><td>197.3488</td><td>110.0510</td><td>0.0021</td><td>0.0014</td><td>0.0019</td><td>0.0013</td><td>14</td><td>12</td><td>0</td><td>8</td><td>1.5801</td><td>149.9305</td><td>15.9801</td><td>10.0298</td><td>6.8333</td><td>17.2690</td><td>179.5510</td></tr>\n",
       "</table>"
      ],
      "text/plain": [
       "<Table length=4>\n",
       "pos_id length_r1 length_r2 offset_x ... rms_angstep_t rms_angstep_p  max_p  \n",
       " str6   float32   float32  float32  ...    float32       float32    float32 \n",
       "------ --------- --------- -------- ... ------------- ------------- --------\n",
       "M00703    2.8362    3.0768  85.3871 ...       13.2536        2.9453 173.5207\n",
       "M01377    3.1763    3.0322 142.7321 ...        0.2285       17.3546 146.4222\n",
       "M02055    2.9605    3.0878 173.9227 ...       11.1774        7.3305 180.4478\n",
       "M06714    3.0465    3.0446 262.6281 ...        6.8333       17.2690 179.5510"
      ]
     },
     "execution_count": 37,
     "metadata": {},
     "output_type": "execute_result"
    }
   ],
   "source": [
    "new_cals[tried&(new_cals['arc_t']>-7.5)&(new_cals['arc_t']<260)]"
   ]
  },
  {
   "cell_type": "code",
   "execution_count": 28,
   "id": "f519e27e-0b34-4c14-870c-744bffcb8654",
   "metadata": {},
   "outputs": [
    {
     "data": {
      "text/html": [
       "<i>Table length=2</i>\n",
       "<table id=\"table46913346941232\" class=\"table-striped table-bordered table-condensed\">\n",
       "<thead><tr><th>pos_id</th><th>length_r1</th><th>length_r2</th><th>offset_x</th><th>offset_y</th><th>arc_t</th><th>arc_p</th><th>rms_t</th><th>rms_p</th><th>err.length_r2</th><th>err.offset_xy</th><th>nfit_t</th><th>nfit_p</th><th>nprune_t</th><th>nprune_p</th><th>theta_arc_radius</th><th>theta_arc_phi</th><th>median_angstep_t</th><th>median_angstep_p</th><th>rms_angstep_t</th><th>rms_angstep_p</th><th>max_p</th></tr></thead>\n",
       "<thead><tr><th>str6</th><th>float32</th><th>float32</th><th>float32</th><th>float32</th><th>float32</th><th>float32</th><th>float32</th><th>float32</th><th>float32</th><th>float32</th><th>float32</th><th>float32</th><th>float32</th><th>float32</th><th>float32</th><th>float32</th><th>float32</th><th>float32</th><th>float32</th><th>float32</th><th>float32</th></tr></thead>\n",
       "<tr><td>M02055</td><td>2.9605</td><td>3.0878</td><td>173.9227</td><td>113.7859</td><td>185.9264</td><td>110.6459</td><td>0.0024</td><td>0.0014</td><td>0.0017</td><td>0.0016</td><td>14</td><td>14</td><td>0</td><td>6</td><td>2.6875</td><td>127.2883</td><td>24.7659</td><td>10.0260</td><td>11.1774</td><td>7.3305</td><td>180.4478</td></tr>\n",
       "<tr><td>M06714</td><td>3.0465</td><td>3.0446</td><td>262.6281</td><td>122.6976</td><td>197.3488</td><td>110.0510</td><td>0.0021</td><td>0.0014</td><td>0.0019</td><td>0.0013</td><td>14</td><td>12</td><td>0</td><td>8</td><td>1.5801</td><td>149.9305</td><td>15.9801</td><td>10.0298</td><td>6.8333</td><td>17.2690</td><td>179.5510</td></tr>\n",
       "</table>"
      ],
      "text/plain": [
       "<Table length=2>\n",
       "pos_id length_r1 length_r2 offset_x ... rms_angstep_t rms_angstep_p  max_p  \n",
       " str6   float32   float32  float32  ...    float32       float32    float32 \n",
       "------ --------- --------- -------- ... ------------- ------------- --------\n",
       "M02055    2.9605    3.0878 173.9227 ...       11.1774        7.3305 180.4478\n",
       "M06714    3.0465    3.0446 262.6281 ...        6.8333       17.2690 179.5510"
      ]
     },
     "execution_count": 28,
     "metadata": {},
     "output_type": "execute_result"
    }
   ],
   "source": [
    "new_cals[tried&(new_cals['arc_t']>0)&(new_cals['median_angstep_t']<26)]"
   ]
  },
  {
   "cell_type": "code",
   "execution_count": 29,
   "id": "e5a5ff4d-c078-4f2a-a1ef-62e309e36056",
   "metadata": {},
   "outputs": [
    {
     "data": {
      "text/html": [
       "<i>Table length=1</i>\n",
       "<table id=\"table46913347072976\" class=\"table-striped table-bordered table-condensed\">\n",
       "<thead><tr><th>pos_id</th><th>length_r1</th><th>length_r2</th><th>offset_x</th><th>offset_y</th><th>arc_t</th><th>arc_p</th><th>rms_t</th><th>rms_p</th><th>err.length_r2</th><th>err.offset_xy</th><th>nfit_t</th><th>nfit_p</th><th>nprune_t</th><th>nprune_p</th><th>theta_arc_radius</th><th>theta_arc_phi</th><th>median_angstep_t</th><th>median_angstep_p</th><th>rms_angstep_t</th><th>rms_angstep_p</th><th>max_p</th></tr></thead>\n",
       "<thead><tr><th>str6</th><th>float32</th><th>float32</th><th>float32</th><th>float32</th><th>float32</th><th>float32</th><th>float32</th><th>float32</th><th>float32</th><th>float32</th><th>float32</th><th>float32</th><th>float32</th><th>float32</th><th>float32</th><th>float32</th><th>float32</th><th>float32</th><th>float32</th><th>float32</th><th>float32</th></tr></thead>\n",
       "<tr><td>M03929</td><td>2.7997</td><td>3.1196</td><td>362.4241</td><td>113.5468</td><td>299.9535</td><td>34.8567</td><td>0.0032</td><td>0.0015</td><td>0.0185</td><td>0.0016</td><td>11</td><td>17</td><td>3</td><td>3</td><td>1.6664</td><td>147.8738</td><td>30.2747</td><td>3.7620</td><td>14.7582</td><td>2.1080</td><td>159.9587</td></tr>\n",
       "</table>"
      ],
      "text/plain": [
       "<Table length=1>\n",
       "pos_id length_r1 length_r2 offset_x ... rms_angstep_t rms_angstep_p  max_p  \n",
       " str6   float32   float32  float32  ...    float32       float32    float32 \n",
       "------ --------- --------- -------- ... ------------- ------------- --------\n",
       "M03929    2.7997    3.1196 362.4241 ...       14.7582        2.1080 159.9587"
      ]
     },
     "execution_count": 29,
     "metadata": {},
     "output_type": "execute_result"
    }
   ],
   "source": [
    "new_cals[tried&(new_cals['arc_p']>0)&(new_cals['median_angstep_p']<8)]"
   ]
  },
  {
   "cell_type": "code",
   "execution_count": 30,
   "id": "25a4c4af-4500-4dcc-aa5b-0cd5998e2ee0",
   "metadata": {
    "jupyter": {
     "source_hidden": true
    },
    "tags": []
   },
   "outputs": [
    {
     "data": {
      "image/png": "[encoded data removed]",
      "text/plain": [
       "<Figure size 432x288 with 1 Axes>"
      ]
     },
     "metadata": {
      "needs_background": "light"
     },
     "output_type": "display_data"
    }
   ],
   "source": [
    "plt.hist(arc[tried&(arc>0)],range=[0,390],bins=39)\n",
    "plt.semilogy()\n",
    "plt.show()"
   ]
  },
  {
   "cell_type": "code",
   "execution_count": 31,
   "id": "d241ac3d-1701-4733-b21c-ab09e762861f",
   "metadata": {},
   "outputs": [
    {
     "data": {
      "image/png": "[encoded data removed]",
      "text/plain": [
       "<Figure size 432x288 with 1 Axes>"
      ]
     },
     "metadata": {
      "needs_background": "light"
     },
     "output_type": "display_data"
    },
    {
     "name": "stdout",
     "output_type": "stream",
     "text": [
      "0.0009598081\n"
     ]
    }
   ],
   "source": [
    "sel = (arc>50)\n",
    "plt.scatter(arc[sel], new_cals['err.offset_xy'][sel], s=4)\n",
    "plt.show()\n",
    "print(np.median(new_cals['err.offset_xy'][sel]))"
   ]
  },
  {
   "cell_type": "code",
   "execution_count": 32,
   "id": "2dcaf3ec-0c9b-4c82-a1a6-bf64f1ae9de5",
   "metadata": {},
   "outputs": [
    {
     "data": {
      "image/png": "[encoded data removed]",
      "text/plain": [
       "<Figure size 432x288 with 1 Axes>"
      ]
     },
     "metadata": {
      "needs_background": "light"
     },
     "output_type": "display_data"
    }
   ],
   "source": [
    "sel = (new_cals['arc_p']>0)\n",
    "plt.scatter(new_cals['arc_p'][sel], new_cals['median_angstep_p'][sel],s=4)\n",
    "plt.show()"
   ]
  },
  {
   "cell_type": "code",
   "execution_count": 33,
   "id": "2c1d3446-216b-45cb-9d09-399c42b102c6",
   "metadata": {},
   "outputs": [
    {
     "data": {
      "image/png": "[encoded data removed]",
      "text/plain": [
       "<Figure size 432x288 with 2 Axes>"
      ]
     },
     "metadata": {
      "needs_background": "light"
     },
     "output_type": "display_data"
    }
   ],
   "source": [
    "dx = (new_cals['offset_x']-cals['offset_x'])*1000\n",
    "dy = (new_cals['offset_y']-cals['offset_y'])*1000\n",
    "sel = (new_cals['arc_t']>0)\n",
    "plt.scatter(dx[sel], dy[sel], s=4, c=present_cals['petal_id'][sel])\n",
    "plt.colorbar()\n",
    "plt.gca().set_aspect('equal')\n",
    "plt.xlim([-50,50])\n",
    "plt.ylim([-60,40])\n",
    "plt.xlabel(\"d(offset_x), microns\",size=14)\n",
    "plt.ylabel(\"d(offset_y)\",size=14)\n",
    "plt.title(\"Comparison of Sept to June\", size=14)\n",
    "plt.show()"
   ]
  },
  {
   "cell_type": "code",
   "execution_count": 34,
   "id": "2a09d47f-8c6b-414b-bc4d-6d7bbfb9fb36",
   "metadata": {},
   "outputs": [
    {
     "name": "stdout",
     "output_type": "stream",
     "text": [
      "11.150790532972033 9.570723594597963\n"
     ]
    },
    {
     "data": {
      "image/png": "[encoded data removed]",
      "text/plain": [
       "<Figure size 432x288 with 1 Axes>"
      ]
     },
     "metadata": {
      "needs_background": "light"
     },
     "output_type": "display_data"
    }
   ],
   "source": [
    "dr1 = (new_cals['length_r1']-cals['length_r1'])*1000\n",
    "dr2 = (new_cals['length_r2']-cals['length_r2'])*1000\n",
    "sel = (new_cals['arc_t']>0)&(new_cals['arc_p']>0)\n",
    "print(np.std(dr1[sel]), np.std(dr2[sel]))\n",
    "plt.scatter(dr1[sel], dr2[sel], s=4)\n",
    "plt.show()"
   ]
  },
  {
   "cell_type": "code",
   "execution_count": 35,
   "id": "90a16d8e-49ab-4428-a10f-30d46db2e52a",
   "metadata": {},
   "outputs": [
    {
     "name": "stdout",
     "output_type": "stream",
     "text": [
      "Plotting 68 fibers\n"
     ]
    },
    {
     "data": {
      "image/png": "[encoded data removed]",
      "text/plain": [
       "<Figure size 1008x288 with 3 Axes>"
      ]
     },
     "metadata": {
      "needs_background": "light"
     },
     "output_type": "display_data"
    },
    {
     "data": {
      "image/png": "[encoded data removed]",
      "text/plain": [
       "<Figure size 1008x288 with 3 Axes>"
      ]
     },
     "metadata": {
      "needs_background": "light"
     },
     "output_type": "display_data"
    },
    {
     "data": {
      "image/png": "[encoded data removed]",
      "text/plain": [
       "<Figure size 1008x288 with 3 Axes>"
      ]
     },
     "metadata": {
      "needs_background": "light"
     },
     "output_type": "display_data"
    },
    {
     "data": {
      "image/png": "[encoded data removed]",
      "text/plain": [
       "<Figure size 1008x288 with 3 Axes>"
      ]
     },
     "metadata": {
      "needs_background": "light"
     },
     "output_type": "display_data"
    },
    {
     "data": {
      "image/png": "[encoded data removed]",
      "text/plain": [
       "<Figure size 1008x288 with 3 Axes>"
      ]
     },
     "metadata": {
      "needs_background": "light"
     },
     "output_type": "display_data"
    },
    {
     "data": {
      "image/png": "[encoded data removed]",
      "text/plain": [
       "<Figure size 1008x288 with 3 Axes>"
      ]
     },
     "metadata": {
      "needs_background": "light"
     },
     "output_type": "display_data"
    },
    {
     "data": {
      "image/png": "[encoded data removed]",
      "text/plain": [
       "<Figure size 1008x288 with 3 Axes>"
      ]
     },
     "metadata": {
      "needs_background": "light"
     },
     "output_type": "display_data"
    },
    {
     "data": {
      "image/png": "[encoded data removed]",
      "text/plain": [
       "<Figure size 1008x288 with 3 Axes>"
      ]
     },
     "metadata": {
      "needs_background": "light"
     },
     "output_type": "display_data"
    },
    {
     "data": {
      "image/png": "[encoded data removed]",
      "text/plain": [
       "<Figure size 1008x288 with 3 Axes>"
      ]
     },
     "metadata": {
      "needs_background": "light"
     },
     "output_type": "display_data"
    },
    {
     "data": {
      "image/png": "[encoded data removed]",
      "text/plain": [
       "<Figure size 1008x288 with 3 Axes>"
      ]
     },
     "metadata": {
      "needs_background": "light"
     },
     "output_type": "display_data"
    },
    {
     "data": {
      "image/png": "[encoded data removed]",
      "text/plain": [
       "<Figure size 1008x288 with 3 Axes>"
      ]
     },
     "metadata": {
      "needs_background": "light"
     },
     "output_type": "display_data"
    },
    {
     "data": {
      "image/png": "[encoded data removed]",
      "text/plain": [
       "<Figure size 1008x288 with 3 Axes>"
      ]
     },
     "metadata": {
      "needs_background": "light"
     },
     "output_type": "display_data"
    },
    {
     "data": {
      "image/png": "[encoded data removed]",
      "text/plain": [
       "<Figure size 1008x288 with 3 Axes>"
      ]
     },
     "metadata": {
      "needs_background": "light"
     },
     "output_type": "display_data"
    },
    {
     "data": {
      "image/png": "[encoded data removed]",
      "text/plain": [
       "<Figure size 1008x288 with 3 Axes>"
      ]
     },
     "metadata": {
      "needs_background": "light"
     },
     "output_type": "display_data"
    },
    {
     "data": {
      "image/png": "[encoded data removed]",
      "text/plain": [
       "<Figure size 1008x288 with 3 Axes>"
      ]
     },
     "metadata": {
      "needs_background": "light"
     },
     "output_type": "display_data"
    },
    {
     "data": {
      "image/png": "[encoded data removed]",
      "text/plain": [
       "<Figure size 1008x288 with 3 Axes>"
      ]
     },
     "metadata": {
      "needs_background": "light"
     },
     "output_type": "display_data"
    },
    {
     "data": {
      "image/png": "[encoded data removed]",
      "text/plain": [
       "<Figure size 1008x288 with 3 Axes>"
      ]
     },
     "metadata": {
      "needs_background": "light"
     },
     "output_type": "display_data"
    },
    {
     "data": {
      "image/png": "[encoded data removed]",
      "text/plain": [
       "<Figure size 1008x288 with 3 Axes>"
      ]
     },
     "metadata": {
      "needs_background": "light"
     },
     "output_type": "display_data"
    },
    {
     "data": {
      "image/png": "[encoded data removed]",
      "text/plain": [
       "<Figure size 1008x288 with 3 Axes>"
      ]
     },
     "metadata": {
      "needs_background": "light"
     },
     "output_type": "display_data"
    },
    {
     "data": {
      "image/png": "[encoded data removed]",
      "text/plain": [
       "<Figure size 1008x288 with 3 Axes>"
      ]
     },
     "metadata": {
      "needs_background": "light"
     },
     "output_type": "display_data"
    },
    {
     "data": {
      "image/png": "[encoded data removed]",
      "text/plain": [
       "<Figure size 1008x288 with 3 Axes>"
      ]
     },
     "metadata": {
      "needs_background": "light"
     },
     "output_type": "display_data"
    },
    {
     "data": {
      "image/png": "[encoded data removed]",
      "text/plain": [
       "<Figure size 1008x288 with 3 Axes>"
      ]
     },
     "metadata": {
      "needs_background": "light"
     },
     "output_type": "display_data"
    },
    {
     "data": {
      "image/png": "[encoded data removed]",
      "text/plain": [
       "<Figure size 1008x288 with 3 Axes>"
      ]
     },
     "metadata": {
      "needs_background": "light"
     },
     "output_type": "display_data"
    }
   ],
   "source": [
    "pet6 = ['M05641', 'M05707', 'M05709', 'M05711', 'M05713', 'M05715', 'M05716', 'M05717', 'M05721', 'M06037', 'M06038', 'M06039', 'M06040', 'M06041', 'M06045', 'M06046', 'M06047', 'M06169', 'M07453', 'M07456', 'M07527', 'M08201', 'M08311', 'M08333', 'M08334', 'M01485', 'M01489', 'M01490', 'M01679', 'M01684', 'M03831', 'M03841', 'M03974', 'M04408', 'M05747', 'M05748', 'M05749', 'M05750', 'M05768', 'M05784', 'M05785', 'M05792', 'M05793', 'M05854', 'M05856', 'M05858', 'M05859', 'M05885', 'M05886', 'M05890', 'M05891', 'M05901', 'M05902', 'M05903', 'M05985', 'M05986', 'M06008', 'M06010', 'M06013', 'M06154', 'M06172', 'M06174', 'M06793', 'M06794', 'M06857', 'M06858', 'M06859', 'M08184']\n",
    "tpet6 = Table([pet6])\n",
    "tpet6.rename_column('col0','pos_id')\n",
    "plot_many_fibers(tpet6)"
   ]
  },
  {
   "cell_type": "code",
   "execution_count": 36,
   "id": "2064c807-d241-4204-9f5a-8f9a03b9a0e6",
   "metadata": {},
   "outputs": [
    {
     "name": "stdout",
     "output_type": "stream",
     "text": [
      "Plotting 15 fibers\n"
     ]
    },
    {
     "data": {
      "image/png": "[encoded data removed]",
      "text/plain": [
       "<Figure size 1008x288 with 3 Axes>"
      ]
     },
     "metadata": {
      "needs_background": "light"
     },
     "output_type": "display_data"
    },
    {
     "data": {
      "image/png": "[encoded data removed]",
      "text/plain": [
       "<Figure size 1008x288 with 3 Axes>"
      ]
     },
     "metadata": {
      "needs_background": "light"
     },
     "output_type": "display_data"
    },
    {
     "data": {
      "image/png": "[encoded data removed]",
      "text/plain": [
       "<Figure size 1008x288 with 3 Axes>"
      ]
     },
     "metadata": {
      "needs_background": "light"
     },
     "output_type": "display_data"
    },
    {
     "data": {
      "image/png": "[encoded data removed]",
      "text/plain": [
       "<Figure size 1008x288 with 3 Axes>"
      ]
     },
     "metadata": {
      "needs_background": "light"
     },
     "output_type": "display_data"
    },
    {
     "data": {
      "image/png": "[encoded data removed]",
      "text/plain": [
       "<Figure size 1008x288 with 3 Axes>"
      ]
     },
     "metadata": {
      "needs_background": "light"
     },
     "output_type": "display_data"
    }
   ],
   "source": [
    "new15 = ['M00703', 'M00825', 'M01277', 'M01328', 'M01377',\n",
    "'M01419', 'M01573', 'M01611', 'M02055',\n",
    "'M02110', 'M02209', 'M02231', 'M02281', 'M02564', 'M02622']\n",
    "tnew15= Table([new15])\n",
    "tnew15.rename_column('col0','pos_id')\n",
    "plot_many_fibers(tnew15)"
   ]
  },
  {
   "cell_type": "code",
   "execution_count": null,
   "id": "953ef1a6-4905-4de8-9a67-ddd36fe3fd29",
   "metadata": {},
   "outputs": [],
   "source": []
  },
  {
   "cell_type": "code",
   "execution_count": null,
   "id": "1534838c-3299-47b7-bd30-c6aa0a7bbce1",
   "metadata": {},
   "outputs": [],
   "source": []
  }
 ],
 "metadata": {
  "kernelspec": {
   "display_name": "DESI master",
   "language": "python",
   "name": "desi-master"
  },
  "language_info": {
   "codemirror_mode": {
    "name": "ipython",
    "version": 3
   },
   "file_extension": ".py",
   "mimetype": "text/x-python",
   "name": "python",
   "nbconvert_exporter": "python",
   "pygments_lexer": "ipython3",
   "version": "3.8.3"
  }
 },
 "nbformat": 4,
 "nbformat_minor": 5
}
