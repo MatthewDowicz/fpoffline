{
 "cells": [
  {
   "cell_type": "markdown",
   "id": "107f2439-3da4-448a-8884-9d6f260fc6a4",
   "metadata": {},
   "source": [
    "# Positioner Constants Update\n",
    "\n",
    "Utilities for updating the positioner constants.\n",
    "\n",
    "References:\n",
    " - [Constants viewer](https://replicator.desi.lbl.gov/ConstantsDB/app)\n",
    " - [Constants graphical browser](https://observablehq.com/@dkirkby/desi-pos-const)\n",
    " - [ConstantsDB wiki page](https://desi.lbl.gov/trac/wiki/FPS/ConstDB)"
   ]
  },
  {
   "cell_type": "code",
   "execution_count": 1,
   "id": "a595f6f8-ed0c-4c66-af70-106792a95170",
   "metadata": {},
   "outputs": [],
   "source": [
    "import requests\n",
    "import json"
   ]
  },
  {
   "cell_type": "code",
   "execution_count": 2,
   "id": "29cc08a2-e853-41ab-bef9-ca31c8e0bf7d",
   "metadata": {},
   "outputs": [],
   "source": [
    "import pandas as pd"
   ]
  },
  {
   "cell_type": "markdown",
   "id": "50d81ec5-8300-4284-959d-45a955a34a70",
   "metadata": {},
   "source": [
    "Read constants from the DESI mirror:"
   ]
  },
  {
   "cell_type": "code",
   "execution_count": 3,
   "id": "408c47f3-35d9-4eab-a6bd-f54f8d284352",
   "metadata": {},
   "outputs": [],
   "source": [
    "def get_constants(name, version):\n",
    "    url = f'https://replicator.desi.lbl.gov/ConstantsDB/app/Groups/exportJSON?name={name}&version={version}'\n",
    "    r = requests.get(url)\n",
    "    r.raise_for_status()\n",
    "    return r.json()"
   ]
  },
  {
   "cell_type": "markdown",
   "id": "6823f086-2595-43c5-ae2d-ffe7e35f4186",
   "metadata": {},
   "source": [
    "Lookup the latest version of the `fiber_positioner` constants group to load [here](https://replicator.desi.lbl.gov/ConstantsDB/app/Groups/list?name=fiber_positioner)."
   ]
  },
  {
   "cell_type": "code",
   "execution_count": 4,
   "id": "b1bc297a-4f7d-44c8-9b78-b2e74b2930bb",
   "metadata": {},
   "outputs": [],
   "source": [
    "constants = get_constants('fiber_positioner', 198)"
   ]
  },
  {
   "cell_type": "markdown",
   "id": "922408b6-d86e-47b1-bfc9-c82e6d7e13e2",
   "metadata": {},
   "source": [
    "Load a local copy of the current positioner index table listed [here](https://desi.lbl.gov/trac/browser/code/online/Positioner/PositionerIndexTable/trunk/index_files?order=date&desc=1):"
   ]
  },
  {
   "cell_type": "code",
   "execution_count": 5,
   "id": "86cf5491-0510-4104-a317-b33c9ff8587a",
   "metadata": {},
   "outputs": [],
   "source": [
    "index = pd.read_csv('desi_positioner_indexes_20211005.csv')"
   ]
  },
  {
   "cell_type": "markdown",
   "id": "a4fbaf23-066d-4c46-9872-cf1ffb87e8e9",
   "metadata": {
    "tags": []
   },
   "source": [
    "## 20220319 Update\n",
    "\n",
    "This update addresses two issues:\n",
    " - P3 duty cycles are all set to 100%.  Change these to 70%.\n",
    " - [Ticket 964](https://desi.lbl.gov/trac/ticket/964) A few functional robots have backlash compensation disabled. Enable it for all robots (including non-functional ones)."
   ]
  },
  {
   "cell_type": "code",
   "execution_count": 7,
   "id": "eca6fb09-a8ed-4fab-9a62-889bb1bd4b2f",
   "metadata": {},
   "outputs": [
    {
     "name": "stdout",
     "output_type": "stream",
     "text": [
      "Skipping M01722 with no index entry\n",
      "Skipping M02725 with no index entry\n",
      "Skipping M03236 with no index entry\n",
      "Skipping M03556 with no index entry\n",
      "Skipping M03567 with no index entry\n",
      "Skipping M03648 with no index entry\n",
      "Skipping M03709 with no index entry\n",
      "Skipping M03824 with no index entry\n",
      "Skipping M03912 with no index entry\n",
      "Skipping M03918 with no index entry\n",
      "Skipping M04024 with no index entry\n",
      "Skipping M04182 with no index entry\n",
      "Skipping M05743 with no index entry\n",
      "Skipping M06848 with no index entry\n",
      "Skipping M06891 with no index entry\n",
      "Skipping M06931 with no index entry\n",
      "Skipping M07550 with no index entry\n",
      "Skipping M03996 with no index entry\n",
      "Enabling backlash compensation for 441 robots\n",
      "Setting 70% dutycycle for 502 P3 robots\n",
      "Updated constants for 884 robots\n"
     ]
    }
   ],
   "source": [
    "def update_20220319(constants=constants, index=index, save='const_20220319.json'):\n",
    "    \n",
    "    output = []\n",
    "\n",
    "    nbacklash = 0\n",
    "    backlash_keys = dict(ANTIBACKLASH_ON=True, FINAL_CREEP_ON=True, MIN_DIST_AT_CRUISE_SPEED=180.0)\n",
    "\n",
    "    ndutycycle = 0\n",
    "    dutycycle_keys = dict(CURR_CREEP=70, CURR_CRUISE=70, CURR_SPIN_UP_DOWN=70)\n",
    "    \n",
    "    for i, element in enumerate(constants['elements']):\n",
    "        \n",
    "        name = element['name']\n",
    "        info = index[index.DEVICE_ID == name]\n",
    "        if len(info) == 0:\n",
    "            print(f'Skipping {name} with no index entry')\n",
    "            continue\n",
    "        info = info.iloc[0]\n",
    "        constants = dict(element['constants'])\n",
    "        changed = False\n",
    "        \n",
    "        no_backlash = [constants[k] != v for k,v in backlash_keys.items()]\n",
    "        if any(no_backlash):\n",
    "            assert all(no_backlash)\n",
    "            for k,v in backlash_keys.items():\n",
    "                constants[k] = v\n",
    "            nbacklash += 1\n",
    "            changed = True\n",
    "            \n",
    "        if info.PETAL_LOC == 3:\n",
    "            duty100 = [constants[k] != v for k,v in dutycycle_keys.items()]\n",
    "            assert all(duty100)\n",
    "            for k,v in dutycycle_keys.items():\n",
    "                constants[k] = v\n",
    "            ndutycycle += 1\n",
    "            changed = True\n",
    "            \n",
    "        if changed:\n",
    "            output.append(dict(name=name, constants=constants))\n",
    "            \n",
    "    print(f'Enabling backlash compensation for {nbacklash} robots')\n",
    "    print(f'Setting 70% dutycycle for {ndutycycle} P3 robots')\n",
    "    print(f'Updated constants for {len(output)} robots')\n",
    "    \n",
    "    with open(save, 'w') as f:\n",
    "        json.dump(output, f, indent=4)\n",
    "\n",
    "update_20220319()"
   ]
  },
  {
   "cell_type": "code",
   "execution_count": null,
   "id": "259e576d-7be0-46d3-9c2f-cafc24f61265",
   "metadata": {},
   "outputs": [],
   "source": []
  }
 ],
 "metadata": {
  "kernelspec": {
   "display_name": "Python 3 (ipykernel)",
   "language": "python",
   "name": "python3"
  },
  "language_info": {
   "codemirror_mode": {
    "name": "ipython",
    "version": 3
   },
   "file_extension": ".py",
   "mimetype": "text/x-python",
   "name": "python",
   "nbconvert_exporter": "python",
   "pygments_lexer": "ipython3",
   "version": "3.8.12"
  }
 },
 "nbformat": 4,
 "nbformat_minor": 5
}
