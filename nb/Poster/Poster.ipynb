{
 "cells": [
  {
   "cell_type": "markdown",
   "id": "d966bc09-0b33-49d5-be00-47f1df3645a7",
   "metadata": {},
   "source": [
    "# Focal Plane Poster Images"
   ]
  },
  {
   "cell_type": "code",
   "execution_count": 1,
   "id": "9e5f117f-17ca-4329-8f8e-1b597ab5e568",
   "metadata": {},
   "outputs": [],
   "source": [
    "%matplotlib inline"
   ]
  },
  {
   "cell_type": "code",
   "execution_count": 38,
   "id": "05895633-9d5a-4995-8104-554cee6dc7d8",
   "metadata": {},
   "outputs": [],
   "source": [
    "import os\n",
    "import sys\n",
    "import io\n",
    "from pathlib import Path"
   ]
  },
  {
   "cell_type": "code",
   "execution_count": 3,
   "id": "48a097d1-bbc7-46b6-b7de-40594b20b93e",
   "metadata": {},
   "outputs": [],
   "source": [
    "import numpy as np\n",
    "import matplotlib.pyplot as plt"
   ]
  },
  {
   "cell_type": "code",
   "execution_count": 74,
   "id": "af650008-2127-494c-b3a7-e497582b18e0",
   "metadata": {},
   "outputs": [],
   "source": [
    "from PIL import Image, ImageChops"
   ]
  },
  {
   "cell_type": "code",
   "execution_count": 5,
   "id": "ed421f36-d464-4e75-8c42-54583a1e0fb3",
   "metadata": {},
   "outputs": [],
   "source": [
    "import fitsio"
   ]
  },
  {
   "cell_type": "code",
   "execution_count": 6,
   "id": "b5be4230-cae8-4a0c-90d3-efe2c1fc67f0",
   "metadata": {},
   "outputs": [],
   "source": [
    "import fpoffline.fvc\n",
    "import fpoffline.const"
   ]
  },
  {
   "cell_type": "code",
   "execution_count": 7,
   "id": "c409cdb9-bdc7-421e-972f-a8456f47a1e6",
   "metadata": {},
   "outputs": [],
   "source": [
    "import requests"
   ]
  },
  {
   "cell_type": "code",
   "execution_count": 8,
   "id": "e003bbc8-889c-4993-9129-dba111acd4d7",
   "metadata": {},
   "outputs": [
    {
     "name": "stdout",
     "output_type": "stream",
     "text": [
      "/global/homes/d/dkirkby/DESI/code/desimeter/py/desimeter/__init__.py\n"
     ]
    }
   ],
   "source": [
    "sys.path.insert(0, '/global/homes/d/dkirkby/DESI/code/desimeter/py')\n",
    "import desimeter\n",
    "print(desimeter.__file__)"
   ]
  },
  {
   "cell_type": "code",
   "execution_count": 9,
   "id": "78c90209-1d18-49c4-aba0-18e7bcc87c1d",
   "metadata": {},
   "outputs": [],
   "source": [
    "import desimeter.transform.xy2qs\n",
    "import desimeter.processfvc"
   ]
  },
  {
   "cell_type": "code",
   "execution_count": 10,
   "id": "a187e1d9-8880-4453-b4bc-06bbdb336862",
   "metadata": {},
   "outputs": [],
   "source": [
    "DESI = Path('/global/cfs/cdirs/desi')\n",
    "DATA = DESI /  'spectro' / 'data'\n",
    "assert DATA.exists()"
   ]
  },
  {
   "cell_type": "code",
   "execution_count": 11,
   "id": "84a25354-e317-496c-8b2d-d2dce1c2d240",
   "metadata": {},
   "outputs": [],
   "source": [
    "SCRATCH = Path(os.getenv('SCRATCH'))\n",
    "assert SCRATCH.exists()"
   ]
  },
  {
   "cell_type": "markdown",
   "id": "93b3ab50-9996-4ac2-bf32-0c8041dbfda9",
   "metadata": {},
   "source": [
    "## Focal Plane"
   ]
  },
  {
   "cell_type": "markdown",
   "id": "52b76f5f-b83d-4366-8780-29f5d0ccda78",
   "metadata": {},
   "source": [
    "Use the stack of 100 x 10s front-illuminated FVC images taken 20220113 (details [here](https://desi.lbl.gov/trac/wiki/FPS/FrontIlluminatedImage)).  These are interesting for a poster since the robots are not parked."
   ]
  },
  {
   "cell_type": "code",
   "execution_count": 12,
   "id": "8d39b86c-b41e-4632-94e7-fe34b6c06485",
   "metadata": {},
   "outputs": [],
   "source": [
    "def stack_fvc(path, expids, ext='F0000', verbose=True):\n",
    "    path = Path(path)\n",
    "    if not path.exists():\n",
    "        raise ValueError('Invalid path: {path}')\n",
    "    stack = np.zeros((6000,6000), np.float32)\n",
    "    tot_exptime = 0\n",
    "    for expid in expids:\n",
    "        exptag = str(expid).zfill(8)\n",
    "        filename = path / exptag / f'fvc-{exptag}.fits.fz'\n",
    "        if not filename.exists():\n",
    "            raise ValueError('Missing file: {filename}')\n",
    "        hdr = fitsio.read_header(str(filename), ext=ext)\n",
    "        tot_exptime += hdr.get('EXPTIME', 0)\n",
    "        data = fitsio.read(str(filename), ext=ext)\n",
    "        stack += data\n",
    "    if verbose:\n",
    "        print(f'Stacked {tot_exptime:.1f}s from {len(expids)} exposures.')\n",
    "    return stack"
   ]
  },
  {
   "cell_type": "code",
   "execution_count": 13,
   "id": "ee7d3a3b-570c-4604-9220-939d4ca730d2",
   "metadata": {},
   "outputs": [
    {
     "name": "stdout",
     "output_type": "stream",
     "text": [
      "Stacked 1000.0s from 100 exposures.\n"
     ]
    }
   ],
   "source": [
    "front_illuminated = fpoffline.fvc.process_front_illuminated(stack_fvc(DATA / '20220113', range(118532, 118632)))"
   ]
  },
  {
   "cell_type": "markdown",
   "id": "b6c73fce-56de-47a4-a862-a29f8e71db8a",
   "metadata": {},
   "source": [
    "Combine two matching back-illuminated FVC images to superimpose spots:"
   ]
  },
  {
   "cell_type": "code",
   "execution_count": 14,
   "id": "e5100e80-6f57-400c-9653-331cdc29d806",
   "metadata": {},
   "outputs": [
    {
     "name": "stdout",
     "output_type": "stream",
     "text": [
      "Stacked 4.0s from 2 exposures.\n"
     ]
    }
   ],
   "source": [
    "back_illuminated_raw = stack_fvc(DATA / '20220113', [118530, 118633])"
   ]
  },
  {
   "cell_type": "code",
   "execution_count": 15,
   "id": "0c684cb8-5433-4fda-a3b2-539291d8d192",
   "metadata": {},
   "outputs": [],
   "source": [
    "import scipy.stats"
   ]
  },
  {
   "cell_type": "code",
   "execution_count": 16,
   "id": "fa11e6da-ea86-4050-9928-785dea8d1cc9",
   "metadata": {},
   "outputs": [],
   "source": [
    "def process_back_illuminated(D, nsig=4, scale=1000):\n",
    "    \"\"\"Perform bias & dark currrent subtraction then apply an arcsinh\n",
    "    stretch and clip any low tail. The result has min=-1 and mean~0.\n",
    "    \"\"\"\n",
    "    D = fpoffline.fvc.measure_subtract_bias(D, plot=False)\n",
    "    clipped, _, _ = scipy.stats.sigmaclip(D, nsig, nsig)\n",
    "    mu, sig = clipped.mean(), clipped.std()\n",
    "    return np.arcsinh(np.clip((D - mu) / scale, 0, None))"
   ]
  },
  {
   "cell_type": "code",
   "execution_count": 17,
   "id": "ccd35677-fc80-4683-8075-99ccb3f43bc0",
   "metadata": {},
   "outputs": [],
   "source": [
    "back_illuminated = process_back_illuminated(back_illuminated_raw)"
   ]
  },
  {
   "cell_type": "markdown",
   "id": "d4f0b164-618f-4457-b005-f2c8f195f505",
   "metadata": {},
   "source": [
    "Calculate the radial distance of the outer GIF (DEVICE_LOC 542) from the nominal petal design:"
   ]
  },
  {
   "cell_type": "code",
   "execution_count": 18,
   "id": "547a0639-b6ce-4e60-9c0d-b80a65698e76",
   "metadata": {},
   "outputs": [
    {
     "name": "stdout",
     "output_type": "stream",
     "text": [
      "r542 = 410.717 mm\n"
     ]
    }
   ],
   "source": [
    "DESIGN = fpoffline.const.get_petal_design()\n",
    "idx = DESIGN.locmap[542]\n",
    "r542 = np.hypot(DESIGN.xfp[3, idx], DESIGN.yfp[3, idx])\n",
    "print(f'r542 = {r542:.3f} mm')"
   ]
  },
  {
   "cell_type": "markdown",
   "id": "b3db4fcd-234a-4871-a142-564d3b9e277a",
   "metadata": {},
   "source": [
    "Convert to the distance along the curved focal surface, since the FVC image effectively flattens out this curvature:"
   ]
  },
  {
   "cell_type": "code",
   "execution_count": 19,
   "id": "1b24147c-4360-4bbb-87b7-98ebeb9683af",
   "metadata": {},
   "outputs": [
    {
     "name": "stdout",
     "output_type": "stream",
     "text": [
      "s542 = 411.316 mm\n"
     ]
    }
   ],
   "source": [
    "s542 = desimeter.transform.xy2qs.r2s(r542)\n",
    "print(f's542 = {s542:.3f} mm')"
   ]
  },
  {
   "cell_type": "markdown",
   "id": "270ae40a-c075-455f-aa46-f67a07437319",
   "metadata": {},
   "source": [
    "Use desimeter to locate the back-illuminated spots:"
   ]
  },
  {
   "cell_type": "code",
   "execution_count": 20,
   "id": "54e921cb-d7cc-4222-a7de-d7204654ed6e",
   "metadata": {},
   "outputs": [
    {
     "name": "stderr",
     "output_type": "stream",
     "text": [
      "INFO:processfvc.py:127:get_spots_list:read FITS FVC image\n",
      "INFO:processfvc.py:150:get_spots_list:reading image in extension F0000\n"
     ]
    },
    {
     "name": "stdout",
     "output_type": "stream",
     "text": [
      "\n",
      "  file: /global/cfs/cdirs/desi/spectro/data/20220113/00118633/fvc-00118633.fits.fz\n",
      "  mode: READONLY\n",
      "  extnum hdutype         hduname[v]\n",
      "  0      IMAGE_HDU       FVC\n",
      "  1      IMAGE_HDU       F0000\n"
     ]
    },
    {
     "name": "stderr",
     "output_type": "stream",
     "text": [
      "INFO:detectspots.py:142:detectspots:gaussian convolve with sigma = 1.0 pixels\n",
      "INFO:detectspots.py:158:detectspots:convolved image pedestal=988.04 rms=37.40\n",
      "INFO:detectspots.py:185:detectspots:found 5460 peaks\n",
      "INFO:detectspots.py:210:detectspots:fvc image pedestal=-0.33 rms=39.27\n",
      "WARNING:detectspots.py:248:detectspots:remove one duplicated detection of spot at x,y=642.528,1516.468 and 642.530,1516.471 at distance=0.0028563346631419587\n",
      "WARNING:detectspots.py:248:detectspots:remove one duplicated detection of spot at x,y=5565.482,3435.508 and 5565.484,3435.509 at distance=0.002132263169699547\n",
      "WARNING:detectspots.py:248:detectspots:remove one duplicated detection of spot at x,y=2802.493,3804.498 and 2802.495,3804.499 at distance=0.0016725370747724439\n",
      "WARNING:detectspots.py:248:detectspots:remove one duplicated detection of spot at x,y=4632.488,4525.477 and 4632.490,4525.478 at distance=0.002352138041803014\n",
      "INFO:findfiducials.py:28:findfiducials:loading input tranform from /global/homes/d/dkirkby/DESI/code/desimeter/py/desimeter/data/init-fvc2fp.json\n",
      "INFO:findfiducials.py:36:findfiducials:with pixel2fp = 0.149 mm, pinhole max separation = 10.038 pixels \n",
      "INFO:findfiducials.py:60:findfiducials:select spots with at least two close neighbors (in pixel units)\n",
      "INFO:findfiducials.py:71:findfiducials:first match 121 fiducials candidates to metrology (118) with iterative fit\n",
      "INFO:findfiducials.py:87:findfiducials:iter #0 median_dist=97.18231051785902 max_dist=408.1657041750078 matches=103\n",
      "INFO:findfiducials.py:87:findfiducials:iter #1 median_dist=22.61676759237013 max_dist=94.99042388795453 matches=112\n",
      "INFO:findfiducials.py:87:findfiducials:iter #2 median_dist=1.3341303336413868 max_dist=10 matches=113\n",
      "INFO:findfiducials.py:87:findfiducials:iter #3 median_dist=0.4966425807286652 max_dist=10 matches=113\n",
      "INFO:findfiducials.py:87:findfiducials:iter #4 median_dist=0.4966425807321679 max_dist=10 matches=113\n",
      "WARNING:match.py:186:match_arbitrary_translation_dilatation:skip [3 0 1] <=> [1 2 0]\n",
      "WARNING:match.py:186:match_arbitrary_translation_dilatation:skip [2 0 3] <=> [1 3 2]\n",
      "WARNING:match.py:186:match_arbitrary_translation_dilatation:skip [2 0 1] <=> [1 3 0]\n",
      "WARNING:match.py:186:match_arbitrary_translation_dilatation:skip [2 3 1] <=> [1 3 0]\n",
      "WARNING:findfiducials.py:140:findfiducials:only matched pinholes [4 3 1] for 4 detected at LOCATION 8075 xpix~4097 ypix~2694\n",
      "INFO:findfiducials.py:160:findfiducials:matched 451 pinholes from 113 fiducials\n",
      "INFO:fvc2fp.py:196:fit:Mean, median, RMS distance = 87.9, 73.5, 176.8 um\n",
      "INFO:processfvc.py:190:get_expected_pos:since no input expected positions, use metrology to match the fibers to the positioner centers\n"
     ]
    },
    {
     "name": "stdout",
     "output_type": "stream",
     "text": [
      "wrote /tmp/fvc-00118633.csv\n"
     ]
    }
   ],
   "source": [
    "exptag = str(118633).zfill(8)\n",
    "back_fits = DATA / '20220113' / exptag / f'fvc-{exptag}.fits.fz'\n",
    "spots = desimeter.processfvc.process_fvc(str(back_fits), use_subprocess=False).to_pandas()"
   ]
  },
  {
   "cell_type": "code",
   "execution_count": 21,
   "id": "e8a8442b-faf3-414a-a5e1-dff928d015ea",
   "metadata": {},
   "outputs": [],
   "source": [
    "spots542 = spots[spots.DEVICE_LOC == 542].groupby('PETAL_LOC').mean()"
   ]
  },
  {
   "cell_type": "code",
   "execution_count": 22,
   "id": "1a4ad46c-9cbd-42ef-ba89-1721252c5ed1",
   "metadata": {},
   "outputs": [
    {
     "data": {
      "text/plain": [
       "PETAL_LOC\n",
       "0    410.670303\n",
       "1    410.296247\n",
       "2    410.600893\n",
       "3    410.225274\n",
       "4    410.647946\n",
       "5    410.186937\n",
       "6    410.300003\n",
       "7    410.598075\n",
       "8    410.839732\n",
       "9    410.775587\n",
       "dtype: float64"
      ]
     },
     "execution_count": 22,
     "metadata": {},
     "output_type": "execute_result"
    }
   ],
   "source": [
    "np.hypot(spots542.X_FP, spots542.Y_FP)"
   ]
  },
  {
   "cell_type": "markdown",
   "id": "ab59969c-3218-41da-add0-70bc7548e123",
   "metadata": {},
   "source": [
    "Calculate the median separation in FVC pixels between GIFs on opposite petals:"
   ]
  },
  {
   "cell_type": "code",
   "execution_count": 23,
   "id": "374e413b-33af-4b70-be58-c4865ff3a25a",
   "metadata": {},
   "outputs": [
    {
     "name": "stdout",
     "output_type": "stream",
     "text": [
      "diam542fvc = 5630.1 pix\n"
     ]
    }
   ],
   "source": [
    "diam542fvc = np.median([\n",
    "    np.hypot(spots542.loc[k].XPIX - spots542.loc[k+5].XPIX, spots542.loc[k].YPIX - spots542.loc[k+5].YPIX)\n",
    "    for k in range(5)\n",
    "])\n",
    "print(f'diam542fvc = {diam542fvc:.1f} pix')"
   ]
  },
  {
   "cell_type": "markdown",
   "id": "00c3403b-e641-4b87-9ab9-b0d44095f9ad",
   "metadata": {},
   "source": [
    "Calculate the DPI value that correctly scales the FVC image to flattened distance:"
   ]
  },
  {
   "cell_type": "code",
   "execution_count": 24,
   "id": "f9e78edc-c6c0-4bff-af02-2327bb1bc29e",
   "metadata": {},
   "outputs": [
    {
     "name": "stdout",
     "output_type": "stream",
     "text": [
      "DPI = 173.8\n"
     ]
    }
   ],
   "source": [
    "dpi = diam542fvc / (2 * s542 / 25.4)\n",
    "print(f'DPI = {dpi:.1f}')"
   ]
  },
  {
   "cell_type": "markdown",
   "id": "2a46d6d3-c903-4ec9-bfdc-809fa068402f",
   "metadata": {},
   "source": [
    "Estimate the coords of the focal-plane origin in FVC pixels:"
   ]
  },
  {
   "cell_type": "code",
   "execution_count": 25,
   "id": "377f3b09-4625-4323-92cd-36edf477010d",
   "metadata": {},
   "outputs": [
    {
     "data": {
      "text/plain": [
       "(3003, 2972)"
      ]
     },
     "execution_count": 25,
     "metadata": {},
     "output_type": "execute_result"
    }
   ],
   "source": [
    "x0, y0 = np.round(np.mean([\n",
    "    ((spots542.loc[k].XPIX + spots542.loc[k+5].XPIX) / 2, (spots542.loc[k].YPIX + spots542.loc[k+5].YPIX) / 2)\n",
    "    for k in range(5)\n",
    "], axis=0)).astype(int)\n",
    "(x0, y0)"
   ]
  },
  {
   "cell_type": "markdown",
   "id": "1b7337e9-3e71-4717-b371-2778a1d5b3d1",
   "metadata": {},
   "source": [
    "Tint the back-illuminated spots cyan:"
   ]
  },
  {
   "cell_type": "code",
   "execution_count": 26,
   "id": "18a991f5-d2e3-4d4c-b3f9-6c332dcb1e6c",
   "metadata": {},
   "outputs": [],
   "source": [
    "data = back_illuminated\n",
    "back_illuminated_tinted = np.array((0,1,1)).reshape(1, 1, 3) * (np.expand_dims(data,-1) - data.min()) / (data.max() - data.min())"
   ]
  },
  {
   "cell_type": "markdown",
   "id": "5bb9a27c-db6b-475c-918f-75428ae535ce",
   "metadata": {
    "tags": []
   },
   "source": [
    "Apply a colormap stretch to the (grayscale) front-illuminated image:"
   ]
  },
  {
   "cell_type": "code",
   "execution_count": 27,
   "id": "8752074a-3367-4913-aef4-ebac2335b3a8",
   "metadata": {},
   "outputs": [],
   "source": [
    "cmap = plt.get_cmap('cividis')\n",
    "front_illuminated_stretch = cmap(front_illuminated)[:,:,:3]"
   ]
  },
  {
   "cell_type": "markdown",
   "id": "17dd68c8-b235-4b2b-ab0c-c3959a8551b6",
   "metadata": {},
   "source": [
    "Superimpose the tinted spots on the front-illuminated image:"
   ]
  },
  {
   "cell_type": "code",
   "execution_count": 28,
   "id": "dead69d7-2ca9-45a7-8c27-6b8fb4b2e788",
   "metadata": {},
   "outputs": [],
   "source": [
    "combined = np.clip(front_illuminated_stretch + back_illuminated_tinted, 0, 1)"
   ]
  },
  {
   "cell_type": "markdown",
   "id": "9c29dd19-eda4-45d3-bb9f-5d048caa41eb",
   "metadata": {},
   "source": [
    "Center the image on the FP origin and clip to be square:"
   ]
  },
  {
   "cell_type": "code",
   "execution_count": 29,
   "id": "fe7e1ff1-67a0-4d3d-989a-b9a22c382754",
   "metadata": {},
   "outputs": [],
   "source": [
    "def center(s):\n",
    "    if s > 3000:\n",
    "        half = 6000 - s\n",
    "        return slice(s - half, 6000)\n",
    "    else:\n",
    "        half = s\n",
    "        return slice(0, s + half)"
   ]
  },
  {
   "cell_type": "code",
   "execution_count": 108,
   "id": "b9f9cea4-2cd3-460a-b108-3bda00f9f438",
   "metadata": {},
   "outputs": [
    {
     "name": "stdout",
     "output_type": "stream",
     "text": [
      "slice(6, 6000, None) slice(0, 5944, None)\n",
      "(5944, 5994, 3)\n"
     ]
    }
   ],
   "source": [
    "xslice = center(x0)\n",
    "yslice = center(y0)\n",
    "print(xslice, yslice)\n",
    "centered = combined[yslice, xslice]\n",
    "print(centered.shape)"
   ]
  },
  {
   "cell_type": "markdown",
   "id": "233a690b-8f75-42ba-ae11-41ef89151a75",
   "metadata": {},
   "source": [
    "Visual check that we are centered:"
   ]
  },
  {
   "cell_type": "code",
   "execution_count": 109,
   "id": "7d71f417-dd17-480d-a804-d2de4efa6147",
   "metadata": {},
   "outputs": [
    {
     "data": {
      "image/png": "[encoded data removed]",
      "text/plain": [
       "<Figure size 432x288 with 1 Axes>"
      ]
     },
     "metadata": {
      "needs_background": "light"
     },
     "output_type": "display_data"
    }
   ],
   "source": [
    "ny, nx, _ = centered.shape\n",
    "size = 100\n",
    "plt.imshow(centered[ny//2-size:ny//2+size, nx//2-size:nx//2+size], origin='lower');"
   ]
  },
  {
   "cell_type": "markdown",
   "id": "643bd6a3-c31b-45d8-a878-0c9e543d6c21",
   "metadata": {},
   "source": [
    "Save the combined image as a (large) uncompressed PNG with the DPI value calculated above:"
   ]
  },
  {
   "cell_type": "code",
   "execution_count": 62,
   "id": "b22b78d6-fdaf-4fcb-92a0-625da2d7fd48",
   "metadata": {},
   "outputs": [],
   "source": [
    "def save_fvc(data=centered, save='poster.png'):\n",
    "    \"\"\"Plot an FVC image at full size (6000,6000) in the usual orientation.\n",
    "    \"\"\"\n",
    "    h, w, _ = data.shape\n",
    "    fig = plt.figure(figsize=(w / dpi, h / dpi), dpi=dpi, frameon=False)\n",
    "    ax = plt.axes((0, 0, 1, 1))\n",
    "    ax.imshow(data[:,::-1], origin='lower', interpolation='none')\n",
    "    ax.axis('off')\n",
    "    plt.savefig(save, dpi=dpi)\n",
    "    plt.close(fig)\n",
    "    \n",
    "save_fvc()"
   ]
  },
  {
   "cell_type": "markdown",
   "id": "e86aa887-3627-4928-96e1-3c73e5513365",
   "metadata": {},
   "source": [
    "## NeoWISE Background Image\n",
    "\n",
    "Generate a sky background image that is scaled to the focal plane according to the DESI optics and the full width of the poster."
   ]
  },
  {
   "cell_type": "code",
   "execution_count": 32,
   "id": "105870a5-aac8-4209-a551-5adad3cb9c33",
   "metadata": {},
   "outputs": [],
   "source": [
    "# average ECHO22 platescale in microns/arcsec\n",
    "platescale = 70.54"
   ]
  },
  {
   "cell_type": "code",
   "execution_count": 55,
   "id": "85700a8c-b653-4cce-9d3e-a276d85085b8",
   "metadata": {},
   "outputs": [],
   "source": [
    "def get_tanproj(ra, dec, fov, size, layer='unwise-neo6'):\n",
    "    pixscale = fov * 3600 / size\n",
    "    url = f'https://www.legacysurvey.org/viewer/cutout.jpg?ra={ra}&dec={dec}&layer={layer}&pixscale={pixscale}&size={size}'\n",
    "    r = requests.get(url)\n",
    "    return Image.open(io.BytesIO(r.content))"
   ]
  },
  {
   "cell_type": "markdown",
   "id": "6577e885-6ad5-44c5-9bd3-cfe8b55f78e5",
   "metadata": {},
   "source": [
    "Get a NeoWISE6 background image centered on RA=120 DEC=20 which is within the DESI footprint and on the ecliptic. We need over 6K pixels on a side but the legasurvey cutout viewer only allows up to 2K requests, so we need to fetch and assemble a sequence of tiles."
   ]
  },
  {
   "cell_type": "code",
   "execution_count": 188,
   "id": "e6802278-f7b2-4dae-8c5e-06a2811bda86",
   "metadata": {},
   "outputs": [
    {
     "name": "stdout",
     "output_type": "stream",
     "text": [
      "size = 36 x 38 inch = 6264 x 6612 pixels\n",
      "tile[0,0] fov=0.950deg dRA=1.437deg dDEC=1.425deg\n",
      "tile[0,1] fov=0.950deg dRA=1.437deg dDEC=0.475deg\n",
      "tile[0,2] fov=0.950deg dRA=1.437deg dDEC=-0.475deg\n",
      "tile[0,3] fov=0.950deg dRA=1.437deg dDEC=-1.425deg\n",
      "tile[1,0] fov=0.950deg dRA=0.479deg dDEC=1.425deg\n",
      "tile[1,1] fov=0.950deg dRA=0.479deg dDEC=0.475deg\n",
      "tile[1,2] fov=0.950deg dRA=0.479deg dDEC=-0.475deg\n",
      "tile[1,3] fov=0.950deg dRA=0.479deg dDEC=-1.425deg\n",
      "tile[2,0] fov=0.950deg dRA=-0.479deg dDEC=1.425deg\n",
      "tile[2,1] fov=0.950deg dRA=-0.479deg dDEC=0.475deg\n",
      "tile[2,2] fov=0.950deg dRA=-0.479deg dDEC=-0.475deg\n",
      "tile[2,3] fov=0.950deg dRA=-0.479deg dDEC=-1.425deg\n",
      "tile[3,0] fov=0.950deg dRA=-1.437deg dDEC=1.425deg\n",
      "tile[3,1] fov=0.950deg dRA=-1.437deg dDEC=0.475deg\n",
      "tile[3,2] fov=0.950deg dRA=-1.437deg dDEC=-0.475deg\n",
      "tile[3,3] fov=0.950deg dRA=-1.437deg dDEC=-1.425deg\n"
     ]
    }
   ],
   "source": [
    "def get_background(RA0=120, DEC0=20, width_inch=36, height_inch=38, max_tilesize=2000):\n",
    "    \n",
    "    inch2deg = lambda inch: inch * 25400 / platescale / 3600\n",
    "    \n",
    "    # Calculate the number of pixels corresponding to the requested printed dimensions.\n",
    "    width_pixel = round(width_inch * round(dpi))\n",
    "    height_pixel = round(height_inch * round(dpi))\n",
    "    data = np.zeros((height_pixel, width_pixel, 3), np.uint8)\n",
    "\n",
    "    print(f'size = {width_inch} x {height_inch} inch = {width_pixel} x {height_pixel} pixels')\n",
    "    \n",
    "    def get_offsets(size):\n",
    "        ntile = int(np.ceil(size / max_tilesize))\n",
    "        step = round(size / ntile)\n",
    "        offset_pixel = np.arange(ntile + 1) * step\n",
    "        assert offset_pixel[-1] == size\n",
    "        centers = 0.5 * (offset_pixel[1:] + offset_pixel[:-1])\n",
    "        offset_deg = inch2deg((0.5 * size - centers) / round(dpi))\n",
    "        return offset_pixel, offset_deg\n",
    "        \n",
    "    xoffsets, dRA = get_offsets(width_pixel)\n",
    "    yoffsets, dDEC = get_offsets(height_pixel)\n",
    "    dRA /= np.cos(np.deg2rad(DEC0))\n",
    "    \n",
    "    for ix in range(len(dRA)):\n",
    "        xlo, xhi = xoffsets[ix:ix+2]\n",
    "        xsize_pixel = xhi - xlo\n",
    "        for iy in range(len(dDEC)):\n",
    "            ylo, yhi = yoffsets[iy:iy+2]\n",
    "            ysize_pixel = yhi - ylo\n",
    "            # Cutout service returns square images so round up then trim.\n",
    "            size_pixel = max(xsize_pixel, ysize_pixel)\n",
    "            fov_inch = size_pixel / round(dpi)\n",
    "            fov_deg = inch2deg(fov_inch)\n",
    "            print(f'tile[{ix},{iy}] fov={fov_deg:.3f}deg dRA={dRA[ix]:.3f}deg dDEC={dDEC[iy]:.3f}deg')\n",
    "            img_data = np.array(get_tanproj(ra=RA0+dRA[ix], dec=DEC0+dDEC[iy], fov=fov_deg, size=size_pixel))\n",
    "            smaller = min(xsize_pixel, ysize_pixel)\n",
    "            inset = (size_pixel - smaller) // 2\n",
    "            inset_slice = slice(inset, inset + smaller)\n",
    "            if xsize_pixel > ysize_pixel:\n",
    "                img_data = img_data[inset_slice, :]\n",
    "            else:\n",
    "                img_data = img_data[:, inset_slice]\n",
    "            data[ylo:yhi,xlo:xhi] = img_data\n",
    "\n",
    "    img = Image.fromarray(data)\n",
    "    img.save('background.png')\n",
    "\n",
    "get_background()"
   ]
  },
  {
   "cell_type": "markdown",
   "id": "91d67058-e5e5-481e-abd8-a6b3b3e7c0b5",
   "metadata": {},
   "source": [
    "## Moon Image"
   ]
  },
  {
   "cell_type": "code",
   "execution_count": 89,
   "id": "b24a432b-93f0-44ac-bb17-fbecaacca9d3",
   "metadata": {},
   "outputs": [],
   "source": [
    "moonURL = 'https://svs.gsfc.nasa.gov/vis/a000000/a004900/a004955/frames/730x730_1x1_30p/moon.2328.jpg'"
   ]
  },
  {
   "cell_type": "code",
   "execution_count": 99,
   "id": "6aa96553-d191-41e6-b6e4-61604356fcff",
   "metadata": {},
   "outputs": [],
   "source": [
    "def get_image(name, URL):\n",
    "    if not name.exists():\n",
    "        with requests.get(URL, stream=True) as r:\n",
    "            r.raise_for_status()\n",
    "            print('downloading...', end='')\n",
    "            with open(name, 'wb') as f:\n",
    "                for chunk in r.iter_content(chunk_size=8192):\n",
    "                    f.write(chunk)\n",
    "                    print('.', end='')\n",
    "        print('done')\n",
    "    img = Image.open(name)\n",
    "    print(f'Loaded dims: {img.width} x {img.height}')\n",
    "    # Trim out background\n",
    "    bg = Image.new(img.mode, img.size, img.getpixel((0,0)))\n",
    "    diff = ImageChops.difference(img, bg)\n",
    "    diff = ImageChops.add(diff, diff, 2.0, -4)\n",
    "    bbox = diff.getbbox()\n",
    "    img = img.crop(bbox)\n",
    "    print(f'Cropped dims: {img.width} x {img.height}')\n",
    "    return img"
   ]
  },
  {
   "cell_type": "code",
   "execution_count": 100,
   "id": "31ec6b20-ce3f-40f6-bc4e-bba706f96531",
   "metadata": {},
   "outputs": [
    {
     "name": "stdout",
     "output_type": "stream",
     "text": [
      "Loaded dims: 730 x 730\n",
      "Cropped dims: 621 x 622\n"
     ]
    }
   ],
   "source": [
    "moon = get_image(SCRATCH / 'moon-image.png', moonURL)"
   ]
  },
  {
   "cell_type": "code",
   "execution_count": 106,
   "id": "c8e15b14-59a4-4718-80fd-5065783d6c74",
   "metadata": {},
   "outputs": [
    {
     "name": "stdout",
     "output_type": "stream",
     "text": [
      "moon diameter = 5.17 inch = 899 pix\n"
     ]
    }
   ],
   "source": [
    "def get_moon(diam_arcmin=31.0):\n",
    "    \n",
    "    diam_inch = diam_arcmin * 60 * platescale / 25400\n",
    "    diam_pixel = round(diam_inch * round(dpi))\n",
    "    \n",
    "    print(f'moon diameter = {diam_inch:.2f} inch = {diam_pixel} pix')\n",
    "    \n",
    "    resized = moon.resize((diam_pixel, diam_pixel))\n",
    "    resized.save('moon.png', dpi=(round(dpi), round(dpi)))\n",
    "    \n",
    "get_moon()"
   ]
  },
  {
   "cell_type": "markdown",
   "id": "02c30ff2-6ecd-4311-8194-f70bf3c573ad",
   "metadata": {},
   "source": [
    "# QR Code\n",
    "\n",
    "Generate a QR code that links to an outreach page with details on the poster."
   ]
  },
  {
   "cell_type": "code",
   "execution_count": 110,
   "id": "f1cfbae8-334b-44c9-8745-4e2b16814f85",
   "metadata": {},
   "outputs": [],
   "source": [
    "qrURL = 'https://data.desi.lbl.gov/public/epo/desifp/'"
   ]
  },
  {
   "cell_type": "code",
   "execution_count": 183,
   "id": "e879a308-cffc-4916-b54d-95cbb3919a1a",
   "metadata": {},
   "outputs": [],
   "source": [
    "try:\n",
    "    import qrcode\n",
    "    import qrcode.constants\n",
    "    import qrcode.image.styledpil\n",
    "    import qrcode.image.svg\n",
    "    from qrcode.image.styles.moduledrawers import CircleModuleDrawer\n",
    "    qr = qrcode.QRCode(version=1, box_size=15, border=2, error_correction=qrcode.constants.ERROR_CORRECT_Q,\n",
    "                       #image_factory=qrcode.image.styledpil.StyledPilImage)\n",
    "                       image_factory=qrcode.image.svg.SvgPathImage)\n",
    "    qr.add_data(qrURL)\n",
    "    qr.make(fit=True)\n",
    "    img = qr.make_image(back_color='black', fill_color='white', module_drawer=CircleModuleDrawer())\n",
    "    img.save('qrcode.svg')\n",
    "    \n",
    "except ImportError as e:\n",
    "    print(e)\n",
    "    print('You need to install the qrcode package')"
   ]
  }
 ],
 "metadata": {
  "kernelspec": {
   "display_name": "MyDESI",
   "language": "python",
   "name": "desi"
  },
  "language_info": {
   "codemirror_mode": {
    "name": "ipython",
    "version": 3
   },
   "file_extension": ".py",
   "mimetype": "text/x-python",
   "name": "python",
   "nbconvert_exporter": "python",
   "pygments_lexer": "ipython3",
   "version": "3.8.5"
  }
 },
 "nbformat": 4,
 "nbformat_minor": 5
}
